{
 "cells": [
  {
   "cell_type": "markdown",
   "metadata": {},
   "source": [
    "# Forecasting the outflow of telecom company customers"
   ]
  },
  {
   "cell_type": "markdown",
   "metadata": {},
   "source": [
    "## Problem statement"
   ]
  },
  {
   "cell_type": "markdown",
   "metadata": {},
   "source": [
    "Based on payment history and user data, we need to build a model that identifies potential leavers with an AUC-ROC of 0.85 or higher. The model does not estimate quit times, but predicts current customer status based on available data. The model must be developed, tested and described by November 3, 2022."
   ]
  },
  {
   "cell_type": "markdown",
   "metadata": {},
   "source": [
    "## Problem solution plan"
   ]
  },
  {
   "cell_type": "markdown",
   "metadata": {},
   "source": [
    "<ol>\n",
    "     <li>Getting familiarized with the input data</li>\n",
    "     <ol>\n",
    "         <li>Read data</li>\n",
    "         <li>Check for correctness (check logic violations, outliers)</li>\n",
    "         <li>Check data connectivity (if they are not represented by a single table)</li>\n",
    "     </ol>\n",
    "     <li>Data preprocessing</li>\n",
    "     <ol>\n",
    "         <li>Fill in missing values</li>\n",
    "         <li>Correct data to more appropriate types if possible</li>\n",
    "         <li>Explore feature correlation (to correctly determine the set of features depending on the model)</li>\n",
    "         <li>Add synthetic features - whether the client left or not, how long he was a client</li>\n",
    "         <li>Remove irrelevant features (For example, the user ID does not affect the decision to terminate the contract)</li>\n",
    "     </ol>\n",
    "     <li>Research signs and build a profile(s) of exiting users</li>\n",
    "     <ol>\n",
    "         <li>Study the distribution of monthly payments (for everyone and for those who left)</li>\n",
    "         <li>Distribution of users by tariffs / communication services (for all and for those who left)</li>\n",
    "         <li>Research how often clients renegotiate a contract (annual contract expired - extended for next year)</li>\n",
    "         <li>If there are traits clearly correlated with leaving, build distributions based on their values</li>\n",
    "     </ol>\n",
    "     <li>Build models and cross-validate AUC-ROC metric\n",
    "     <ol>\n",
    "         <li>Decision Tree</li>\n",
    "         <li>Linear regression</li>\n",
    "         <li>CatBoost gradient boosting</li>\n",
    "     </ol>\n",
    "     <li>Analyze optimal model</li>\n",
    "     <ol>\n",
    "         <li>For the optimal model, check on the test sample with the calculation of the accuracy metric</li>\n",
    "         <li>Display a list of the most important features (with large weights in the model)</li>\n",
    "         <li>Construct payment size distribution charts, distribution of users by tariffs/communication services for those customers of the test sample whom the model considers \"leaving\" (that is, get a portrait of the departing according to the model version)</li>\n",
    "     </ol>\n",
    "     <li>Generate progress report</li>\n",
    "     <ol>\n",
    "         <li>Indicate which features and model were the most effective</li>\n",
    "         <li>Compare the expected portrait of the departing person with the received portrait \"according to the model\"</li>\n",
    "         <li>Based on the constructed distributions and the obtained predictions, give a recommendation on customer retention</li>\n",
    "     </ol>\n",
    "</ol>"
   ]
  },
  {
   "cell_type": "markdown",
   "metadata": {},
   "source": [
    "## Setup tools"
   ]
  },
  {
   "cell_type": "markdown",
   "metadata": {},
   "source": [
    "Before we start, let's create a code cells to download extra libraries and import everything we need to solve the problem. It will be replenished in the course of the solution."
   ]
  },
  {
   "cell_type": "markdown",
   "metadata": {},
   "source": [
    "### Install libraries"
   ]
  },
  {
   "cell_type": "code",
   "execution_count": 1,
   "metadata": {},
   "outputs": [],
   "source": [
    "!pip install -q phik\n",
    "!pip install -q category_encoders"
   ]
  },
  {
   "cell_type": "markdown",
   "metadata": {},
   "source": [
    "### Import libraries and frameworks "
   ]
  },
  {
   "cell_type": "code",
   "execution_count": 99,
   "metadata": {},
   "outputs": [],
   "source": [
    "import pandas as pd\n",
    "import numpy as np\n",
    "import matplotlib.pyplot as plt\n",
    "import os\n",
    "import phik\n",
    "import json\n",
    "import category_encoders as ce\n",
    "import seaborn as sb\n",
    "\n",
    "from sklearn.pipeline import Pipeline\n",
    "from sklearn.preprocessing import StandardScaler\n",
    "from sklearn.model_selection import train_test_split, GridSearchCV\n",
    "from sklearn.metrics import roc_auc_score, accuracy_score, confusion_matrix\n",
    "from phik.report import plot_correlation_matrix\n",
    "\n",
    "from sklearn.tree import DecisionTreeClassifier\n",
    "from sklearn.linear_model import LogisticRegression\n",
    "from catboost import CatBoostClassifier, Pool\n",
    "\n",
    "\n",
    "import warnings\n",
    "warnings.filterwarnings(\"ignore\")"
   ]
  },
  {
   "cell_type": "markdown",
   "metadata": {},
   "source": [
    "### Define constants"
   ]
  },
  {
   "cell_type": "code",
   "execution_count": 27,
   "metadata": {},
   "outputs": [],
   "source": [
    "RANDOM_STATE=271022\n",
    "TEST_SIZE=0.25\n",
    "CV=5"
   ]
  },
  {
   "cell_type": "markdown",
   "metadata": {},
   "source": [
    "### Define functions"
   ]
  },
  {
   "cell_type": "markdown",
   "metadata": {},
   "source": [
    "To load data, let's define the load_df function, which will either load the file in the current directory (for local work) or on the path for the simulator."
   ]
  },
  {
   "cell_type": "code",
   "execution_count": 28,
   "metadata": {},
   "outputs": [],
   "source": [
    "def load_df(filename):\n",
    "    try:\n",
    "        return pd.read_csv(os.path.join(\"/datasets/final_provider\", filename))\n",
    "    except:\n",
    "        return pd.read_csv(filename)    "
   ]
  },
  {
   "cell_type": "markdown",
   "metadata": {},
   "source": [
    "Function that shows info and first 5 rows of dataframe."
   ]
  },
  {
   "cell_type": "code",
   "execution_count": 29,
   "metadata": {},
   "outputs": [],
   "source": [
    "def show_df(df):\n",
    "    display(df.info())\n",
    "    display(df.head(5))"
   ]
  },
  {
   "cell_type": "markdown",
   "metadata": {},
   "source": [
    "## Read data"
   ]
  },
  {
   "cell_type": "code",
   "execution_count": 30,
   "metadata": {},
   "outputs": [],
   "source": [
    "personal_df = load_df('personal.csv')\n",
    "contract_df = load_df('contract.csv')\n",
    "internet_df = load_df('internet.csv')\n",
    "phone_df = load_df('phone.csv')"
   ]
  },
  {
   "cell_type": "markdown",
   "metadata": {},
   "source": [
    "Now we should check each dataframe for missing values and data types, one by one."
   ]
  },
  {
   "cell_type": "code",
   "execution_count": 17,
   "metadata": {},
   "outputs": [
    {
     "name": "stdout",
     "output_type": "stream",
     "text": [
      "<class 'pandas.core.frame.DataFrame'>\n",
      "RangeIndex: 7043 entries, 0 to 7042\n",
      "Data columns (total 5 columns):\n",
      " #   Column         Non-Null Count  Dtype \n",
      "---  ------         --------------  ----- \n",
      " 0   customerID     7043 non-null   object\n",
      " 1   gender         7043 non-null   object\n",
      " 2   SeniorCitizen  7043 non-null   int64 \n",
      " 3   Partner        7043 non-null   object\n",
      " 4   Dependents     7043 non-null   object\n",
      "dtypes: int64(1), object(4)\n",
      "memory usage: 275.2+ KB\n"
     ]
    },
    {
     "data": {
      "text/plain": [
       "None"
      ]
     },
     "metadata": {},
     "output_type": "display_data"
    },
    {
     "data": {
      "text/html": [
       "<div>\n",
       "<style scoped>\n",
       "    .dataframe tbody tr th:only-of-type {\n",
       "        vertical-align: middle;\n",
       "    }\n",
       "\n",
       "    .dataframe tbody tr th {\n",
       "        vertical-align: top;\n",
       "    }\n",
       "\n",
       "    .dataframe thead th {\n",
       "        text-align: right;\n",
       "    }\n",
       "</style>\n",
       "<table border=\"1\" class=\"dataframe\">\n",
       "  <thead>\n",
       "    <tr style=\"text-align: right;\">\n",
       "      <th></th>\n",
       "      <th>customerID</th>\n",
       "      <th>gender</th>\n",
       "      <th>SeniorCitizen</th>\n",
       "      <th>Partner</th>\n",
       "      <th>Dependents</th>\n",
       "    </tr>\n",
       "  </thead>\n",
       "  <tbody>\n",
       "    <tr>\n",
       "      <th>0</th>\n",
       "      <td>7590-VHVEG</td>\n",
       "      <td>Female</td>\n",
       "      <td>0</td>\n",
       "      <td>Yes</td>\n",
       "      <td>No</td>\n",
       "    </tr>\n",
       "    <tr>\n",
       "      <th>1</th>\n",
       "      <td>5575-GNVDE</td>\n",
       "      <td>Male</td>\n",
       "      <td>0</td>\n",
       "      <td>No</td>\n",
       "      <td>No</td>\n",
       "    </tr>\n",
       "    <tr>\n",
       "      <th>2</th>\n",
       "      <td>3668-QPYBK</td>\n",
       "      <td>Male</td>\n",
       "      <td>0</td>\n",
       "      <td>No</td>\n",
       "      <td>No</td>\n",
       "    </tr>\n",
       "    <tr>\n",
       "      <th>3</th>\n",
       "      <td>7795-CFOCW</td>\n",
       "      <td>Male</td>\n",
       "      <td>0</td>\n",
       "      <td>No</td>\n",
       "      <td>No</td>\n",
       "    </tr>\n",
       "    <tr>\n",
       "      <th>4</th>\n",
       "      <td>9237-HQITU</td>\n",
       "      <td>Female</td>\n",
       "      <td>0</td>\n",
       "      <td>No</td>\n",
       "      <td>No</td>\n",
       "    </tr>\n",
       "  </tbody>\n",
       "</table>\n",
       "</div>"
      ],
      "text/plain": [
       "   customerID  gender  SeniorCitizen Partner Dependents\n",
       "0  7590-VHVEG  Female              0     Yes         No\n",
       "1  5575-GNVDE    Male              0      No         No\n",
       "2  3668-QPYBK    Male              0      No         No\n",
       "3  7795-CFOCW    Male              0      No         No\n",
       "4  9237-HQITU  Female              0      No         No"
      ]
     },
     "metadata": {},
     "output_type": "display_data"
    }
   ],
   "source": [
    "show_df(personal_df)"
   ]
  },
  {
   "cell_type": "code",
   "execution_count": 18,
   "metadata": {},
   "outputs": [
    {
     "name": "stdout",
     "output_type": "stream",
     "text": [
      "<class 'pandas.core.frame.DataFrame'>\n",
      "RangeIndex: 7043 entries, 0 to 7042\n",
      "Data columns (total 8 columns):\n",
      " #   Column            Non-Null Count  Dtype  \n",
      "---  ------            --------------  -----  \n",
      " 0   customerID        7043 non-null   object \n",
      " 1   BeginDate         7043 non-null   object \n",
      " 2   EndDate           7043 non-null   object \n",
      " 3   Type              7043 non-null   object \n",
      " 4   PaperlessBilling  7043 non-null   object \n",
      " 5   PaymentMethod     7043 non-null   object \n",
      " 6   MonthlyCharges    7043 non-null   float64\n",
      " 7   TotalCharges      7043 non-null   object \n",
      "dtypes: float64(1), object(7)\n",
      "memory usage: 440.3+ KB\n"
     ]
    },
    {
     "data": {
      "text/plain": [
       "None"
      ]
     },
     "metadata": {},
     "output_type": "display_data"
    },
    {
     "data": {
      "text/html": [
       "<div>\n",
       "<style scoped>\n",
       "    .dataframe tbody tr th:only-of-type {\n",
       "        vertical-align: middle;\n",
       "    }\n",
       "\n",
       "    .dataframe tbody tr th {\n",
       "        vertical-align: top;\n",
       "    }\n",
       "\n",
       "    .dataframe thead th {\n",
       "        text-align: right;\n",
       "    }\n",
       "</style>\n",
       "<table border=\"1\" class=\"dataframe\">\n",
       "  <thead>\n",
       "    <tr style=\"text-align: right;\">\n",
       "      <th></th>\n",
       "      <th>customerID</th>\n",
       "      <th>BeginDate</th>\n",
       "      <th>EndDate</th>\n",
       "      <th>Type</th>\n",
       "      <th>PaperlessBilling</th>\n",
       "      <th>PaymentMethod</th>\n",
       "      <th>MonthlyCharges</th>\n",
       "      <th>TotalCharges</th>\n",
       "    </tr>\n",
       "  </thead>\n",
       "  <tbody>\n",
       "    <tr>\n",
       "      <th>0</th>\n",
       "      <td>7590-VHVEG</td>\n",
       "      <td>2020-01-01</td>\n",
       "      <td>No</td>\n",
       "      <td>Month-to-month</td>\n",
       "      <td>Yes</td>\n",
       "      <td>Electronic check</td>\n",
       "      <td>29.85</td>\n",
       "      <td>29.85</td>\n",
       "    </tr>\n",
       "    <tr>\n",
       "      <th>1</th>\n",
       "      <td>5575-GNVDE</td>\n",
       "      <td>2017-04-01</td>\n",
       "      <td>No</td>\n",
       "      <td>One year</td>\n",
       "      <td>No</td>\n",
       "      <td>Mailed check</td>\n",
       "      <td>56.95</td>\n",
       "      <td>1889.5</td>\n",
       "    </tr>\n",
       "    <tr>\n",
       "      <th>2</th>\n",
       "      <td>3668-QPYBK</td>\n",
       "      <td>2019-10-01</td>\n",
       "      <td>2019-12-01 00:00:00</td>\n",
       "      <td>Month-to-month</td>\n",
       "      <td>Yes</td>\n",
       "      <td>Mailed check</td>\n",
       "      <td>53.85</td>\n",
       "      <td>108.15</td>\n",
       "    </tr>\n",
       "    <tr>\n",
       "      <th>3</th>\n",
       "      <td>7795-CFOCW</td>\n",
       "      <td>2016-05-01</td>\n",
       "      <td>No</td>\n",
       "      <td>One year</td>\n",
       "      <td>No</td>\n",
       "      <td>Bank transfer (automatic)</td>\n",
       "      <td>42.30</td>\n",
       "      <td>1840.75</td>\n",
       "    </tr>\n",
       "    <tr>\n",
       "      <th>4</th>\n",
       "      <td>9237-HQITU</td>\n",
       "      <td>2019-09-01</td>\n",
       "      <td>2019-11-01 00:00:00</td>\n",
       "      <td>Month-to-month</td>\n",
       "      <td>Yes</td>\n",
       "      <td>Electronic check</td>\n",
       "      <td>70.70</td>\n",
       "      <td>151.65</td>\n",
       "    </tr>\n",
       "  </tbody>\n",
       "</table>\n",
       "</div>"
      ],
      "text/plain": [
       "   customerID   BeginDate              EndDate            Type  \\\n",
       "0  7590-VHVEG  2020-01-01                   No  Month-to-month   \n",
       "1  5575-GNVDE  2017-04-01                   No        One year   \n",
       "2  3668-QPYBK  2019-10-01  2019-12-01 00:00:00  Month-to-month   \n",
       "3  7795-CFOCW  2016-05-01                   No        One year   \n",
       "4  9237-HQITU  2019-09-01  2019-11-01 00:00:00  Month-to-month   \n",
       "\n",
       "  PaperlessBilling              PaymentMethod  MonthlyCharges TotalCharges  \n",
       "0              Yes           Electronic check           29.85        29.85  \n",
       "1               No               Mailed check           56.95       1889.5  \n",
       "2              Yes               Mailed check           53.85       108.15  \n",
       "3               No  Bank transfer (automatic)           42.30      1840.75  \n",
       "4              Yes           Electronic check           70.70       151.65  "
      ]
     },
     "metadata": {},
     "output_type": "display_data"
    }
   ],
   "source": [
    "show_df(contract_df)"
   ]
  },
  {
   "cell_type": "markdown",
   "metadata": {},
   "source": [
    "TotalCharges column data type expected to be float64, same as MonthlyCharges. We have to check values in TotalCharges."
   ]
  },
  {
   "cell_type": "code",
   "execution_count": 31,
   "metadata": {},
   "outputs": [
    {
     "data": {
      "text/plain": [
       "936           \n",
       "3826          \n",
       "4380          \n",
       "753           \n",
       "5218          \n",
       "3331          \n",
       "6754          \n",
       "6670          \n",
       "1340          \n",
       "488           \n",
       "1082          \n",
       "105      100.2\n",
       "4459    100.25\n",
       "1723    100.35\n",
       "2124     100.4\n",
       "Name: TotalCharges, dtype: object"
      ]
     },
     "metadata": {},
     "output_type": "display_data"
    },
    {
     "data": {
      "text/html": [
       "<div>\n",
       "<style scoped>\n",
       "    .dataframe tbody tr th:only-of-type {\n",
       "        vertical-align: middle;\n",
       "    }\n",
       "\n",
       "    .dataframe tbody tr th {\n",
       "        vertical-align: top;\n",
       "    }\n",
       "\n",
       "    .dataframe thead th {\n",
       "        text-align: right;\n",
       "    }\n",
       "</style>\n",
       "<table border=\"1\" class=\"dataframe\">\n",
       "  <thead>\n",
       "    <tr style=\"text-align: right;\">\n",
       "      <th></th>\n",
       "      <th>customerID</th>\n",
       "      <th>BeginDate</th>\n",
       "      <th>EndDate</th>\n",
       "      <th>Type</th>\n",
       "      <th>PaperlessBilling</th>\n",
       "      <th>PaymentMethod</th>\n",
       "      <th>MonthlyCharges</th>\n",
       "      <th>TotalCharges</th>\n",
       "    </tr>\n",
       "  </thead>\n",
       "  <tbody>\n",
       "    <tr>\n",
       "      <th>488</th>\n",
       "      <td>4472-LVYGI</td>\n",
       "      <td>2020-02-01</td>\n",
       "      <td>No</td>\n",
       "      <td>Two year</td>\n",
       "      <td>Yes</td>\n",
       "      <td>Bank transfer (automatic)</td>\n",
       "      <td>52.55</td>\n",
       "      <td></td>\n",
       "    </tr>\n",
       "    <tr>\n",
       "      <th>753</th>\n",
       "      <td>3115-CZMZD</td>\n",
       "      <td>2020-02-01</td>\n",
       "      <td>No</td>\n",
       "      <td>Two year</td>\n",
       "      <td>No</td>\n",
       "      <td>Mailed check</td>\n",
       "      <td>20.25</td>\n",
       "      <td></td>\n",
       "    </tr>\n",
       "    <tr>\n",
       "      <th>936</th>\n",
       "      <td>5709-LVOEQ</td>\n",
       "      <td>2020-02-01</td>\n",
       "      <td>No</td>\n",
       "      <td>Two year</td>\n",
       "      <td>No</td>\n",
       "      <td>Mailed check</td>\n",
       "      <td>80.85</td>\n",
       "      <td></td>\n",
       "    </tr>\n",
       "    <tr>\n",
       "      <th>1082</th>\n",
       "      <td>4367-NUYAO</td>\n",
       "      <td>2020-02-01</td>\n",
       "      <td>No</td>\n",
       "      <td>Two year</td>\n",
       "      <td>No</td>\n",
       "      <td>Mailed check</td>\n",
       "      <td>25.75</td>\n",
       "      <td></td>\n",
       "    </tr>\n",
       "    <tr>\n",
       "      <th>1340</th>\n",
       "      <td>1371-DWPAZ</td>\n",
       "      <td>2020-02-01</td>\n",
       "      <td>No</td>\n",
       "      <td>Two year</td>\n",
       "      <td>No</td>\n",
       "      <td>Credit card (automatic)</td>\n",
       "      <td>56.05</td>\n",
       "      <td></td>\n",
       "    </tr>\n",
       "    <tr>\n",
       "      <th>3331</th>\n",
       "      <td>7644-OMVMY</td>\n",
       "      <td>2020-02-01</td>\n",
       "      <td>No</td>\n",
       "      <td>Two year</td>\n",
       "      <td>No</td>\n",
       "      <td>Mailed check</td>\n",
       "      <td>19.85</td>\n",
       "      <td></td>\n",
       "    </tr>\n",
       "    <tr>\n",
       "      <th>3826</th>\n",
       "      <td>3213-VVOLG</td>\n",
       "      <td>2020-02-01</td>\n",
       "      <td>No</td>\n",
       "      <td>Two year</td>\n",
       "      <td>No</td>\n",
       "      <td>Mailed check</td>\n",
       "      <td>25.35</td>\n",
       "      <td></td>\n",
       "    </tr>\n",
       "    <tr>\n",
       "      <th>4380</th>\n",
       "      <td>2520-SGTTA</td>\n",
       "      <td>2020-02-01</td>\n",
       "      <td>No</td>\n",
       "      <td>Two year</td>\n",
       "      <td>No</td>\n",
       "      <td>Mailed check</td>\n",
       "      <td>20.00</td>\n",
       "      <td></td>\n",
       "    </tr>\n",
       "    <tr>\n",
       "      <th>5218</th>\n",
       "      <td>2923-ARZLG</td>\n",
       "      <td>2020-02-01</td>\n",
       "      <td>No</td>\n",
       "      <td>One year</td>\n",
       "      <td>Yes</td>\n",
       "      <td>Mailed check</td>\n",
       "      <td>19.70</td>\n",
       "      <td></td>\n",
       "    </tr>\n",
       "    <tr>\n",
       "      <th>6670</th>\n",
       "      <td>4075-WKNIU</td>\n",
       "      <td>2020-02-01</td>\n",
       "      <td>No</td>\n",
       "      <td>Two year</td>\n",
       "      <td>No</td>\n",
       "      <td>Mailed check</td>\n",
       "      <td>73.35</td>\n",
       "      <td></td>\n",
       "    </tr>\n",
       "    <tr>\n",
       "      <th>6754</th>\n",
       "      <td>2775-SEFEE</td>\n",
       "      <td>2020-02-01</td>\n",
       "      <td>No</td>\n",
       "      <td>Two year</td>\n",
       "      <td>Yes</td>\n",
       "      <td>Bank transfer (automatic)</td>\n",
       "      <td>61.90</td>\n",
       "      <td></td>\n",
       "    </tr>\n",
       "  </tbody>\n",
       "</table>\n",
       "</div>"
      ],
      "text/plain": [
       "      customerID   BeginDate EndDate      Type PaperlessBilling  \\\n",
       "488   4472-LVYGI  2020-02-01      No  Two year              Yes   \n",
       "753   3115-CZMZD  2020-02-01      No  Two year               No   \n",
       "936   5709-LVOEQ  2020-02-01      No  Two year               No   \n",
       "1082  4367-NUYAO  2020-02-01      No  Two year               No   \n",
       "1340  1371-DWPAZ  2020-02-01      No  Two year               No   \n",
       "3331  7644-OMVMY  2020-02-01      No  Two year               No   \n",
       "3826  3213-VVOLG  2020-02-01      No  Two year               No   \n",
       "4380  2520-SGTTA  2020-02-01      No  Two year               No   \n",
       "5218  2923-ARZLG  2020-02-01      No  One year              Yes   \n",
       "6670  4075-WKNIU  2020-02-01      No  Two year               No   \n",
       "6754  2775-SEFEE  2020-02-01      No  Two year              Yes   \n",
       "\n",
       "                  PaymentMethod  MonthlyCharges TotalCharges  \n",
       "488   Bank transfer (automatic)           52.55               \n",
       "753                Mailed check           20.25               \n",
       "936                Mailed check           80.85               \n",
       "1082               Mailed check           25.75               \n",
       "1340    Credit card (automatic)           56.05               \n",
       "3331               Mailed check           19.85               \n",
       "3826               Mailed check           25.35               \n",
       "4380               Mailed check           20.00               \n",
       "5218               Mailed check           19.70               \n",
       "6670               Mailed check           73.35               \n",
       "6754  Bank transfer (automatic)           61.90               "
      ]
     },
     "metadata": {},
     "output_type": "display_data"
    }
   ],
   "source": [
    "display(contract_df['TotalCharges'].sort_values().head(15))\n",
    "display(contract_df[contract_df['TotalCharges'].str.strip() == ''])"
   ]
  },
  {
   "cell_type": "markdown",
   "metadata": {},
   "source": [
    "All missing values in TotalCharges can be explained - the data is collected for the period up to 2020-02-01, i.e. these users have never been charged yet. In the preprocessing section let's fill in gaps 0. We could use MonthlyCharges value, but it is \"unphysical\" - month has not yet passed, and if we consider that month passed, then \"extreme\" date (to calculate duration of contracts) is 2020-03-01, and then we need 1 month \"solve for the client\", that is to distort the whole dataset.\n",
    "We also have to create synthetic attributes broken (whether the contract was broken) and contract duration (as a difference of BeginDate and EndDate). We will interpret the value \"Not\" in the dataset as 2020-02-01."
   ]
  },
  {
   "cell_type": "code",
   "execution_count": 20,
   "metadata": {},
   "outputs": [
    {
     "name": "stdout",
     "output_type": "stream",
     "text": [
      "<class 'pandas.core.frame.DataFrame'>\n",
      "RangeIndex: 5517 entries, 0 to 5516\n",
      "Data columns (total 8 columns):\n",
      " #   Column            Non-Null Count  Dtype \n",
      "---  ------            --------------  ----- \n",
      " 0   customerID        5517 non-null   object\n",
      " 1   InternetService   5517 non-null   object\n",
      " 2   OnlineSecurity    5517 non-null   object\n",
      " 3   OnlineBackup      5517 non-null   object\n",
      " 4   DeviceProtection  5517 non-null   object\n",
      " 5   TechSupport       5517 non-null   object\n",
      " 6   StreamingTV       5517 non-null   object\n",
      " 7   StreamingMovies   5517 non-null   object\n",
      "dtypes: object(8)\n",
      "memory usage: 344.9+ KB\n"
     ]
    },
    {
     "data": {
      "text/plain": [
       "None"
      ]
     },
     "metadata": {},
     "output_type": "display_data"
    },
    {
     "data": {
      "text/html": [
       "<div>\n",
       "<style scoped>\n",
       "    .dataframe tbody tr th:only-of-type {\n",
       "        vertical-align: middle;\n",
       "    }\n",
       "\n",
       "    .dataframe tbody tr th {\n",
       "        vertical-align: top;\n",
       "    }\n",
       "\n",
       "    .dataframe thead th {\n",
       "        text-align: right;\n",
       "    }\n",
       "</style>\n",
       "<table border=\"1\" class=\"dataframe\">\n",
       "  <thead>\n",
       "    <tr style=\"text-align: right;\">\n",
       "      <th></th>\n",
       "      <th>customerID</th>\n",
       "      <th>InternetService</th>\n",
       "      <th>OnlineSecurity</th>\n",
       "      <th>OnlineBackup</th>\n",
       "      <th>DeviceProtection</th>\n",
       "      <th>TechSupport</th>\n",
       "      <th>StreamingTV</th>\n",
       "      <th>StreamingMovies</th>\n",
       "    </tr>\n",
       "  </thead>\n",
       "  <tbody>\n",
       "    <tr>\n",
       "      <th>0</th>\n",
       "      <td>7590-VHVEG</td>\n",
       "      <td>DSL</td>\n",
       "      <td>No</td>\n",
       "      <td>Yes</td>\n",
       "      <td>No</td>\n",
       "      <td>No</td>\n",
       "      <td>No</td>\n",
       "      <td>No</td>\n",
       "    </tr>\n",
       "    <tr>\n",
       "      <th>1</th>\n",
       "      <td>5575-GNVDE</td>\n",
       "      <td>DSL</td>\n",
       "      <td>Yes</td>\n",
       "      <td>No</td>\n",
       "      <td>Yes</td>\n",
       "      <td>No</td>\n",
       "      <td>No</td>\n",
       "      <td>No</td>\n",
       "    </tr>\n",
       "    <tr>\n",
       "      <th>2</th>\n",
       "      <td>3668-QPYBK</td>\n",
       "      <td>DSL</td>\n",
       "      <td>Yes</td>\n",
       "      <td>Yes</td>\n",
       "      <td>No</td>\n",
       "      <td>No</td>\n",
       "      <td>No</td>\n",
       "      <td>No</td>\n",
       "    </tr>\n",
       "    <tr>\n",
       "      <th>3</th>\n",
       "      <td>7795-CFOCW</td>\n",
       "      <td>DSL</td>\n",
       "      <td>Yes</td>\n",
       "      <td>No</td>\n",
       "      <td>Yes</td>\n",
       "      <td>Yes</td>\n",
       "      <td>No</td>\n",
       "      <td>No</td>\n",
       "    </tr>\n",
       "    <tr>\n",
       "      <th>4</th>\n",
       "      <td>9237-HQITU</td>\n",
       "      <td>Fiber optic</td>\n",
       "      <td>No</td>\n",
       "      <td>No</td>\n",
       "      <td>No</td>\n",
       "      <td>No</td>\n",
       "      <td>No</td>\n",
       "      <td>No</td>\n",
       "    </tr>\n",
       "  </tbody>\n",
       "</table>\n",
       "</div>"
      ],
      "text/plain": [
       "   customerID InternetService OnlineSecurity OnlineBackup DeviceProtection  \\\n",
       "0  7590-VHVEG             DSL             No          Yes               No   \n",
       "1  5575-GNVDE             DSL            Yes           No              Yes   \n",
       "2  3668-QPYBK             DSL            Yes          Yes               No   \n",
       "3  7795-CFOCW             DSL            Yes           No              Yes   \n",
       "4  9237-HQITU     Fiber optic             No           No               No   \n",
       "\n",
       "  TechSupport StreamingTV StreamingMovies  \n",
       "0          No          No              No  \n",
       "1          No          No              No  \n",
       "2          No          No              No  \n",
       "3         Yes          No              No  \n",
       "4          No          No              No  "
      ]
     },
     "metadata": {},
     "output_type": "display_data"
    }
   ],
   "source": [
    "show_df(internet_df)"
   ]
  },
  {
   "cell_type": "code",
   "execution_count": 21,
   "metadata": {},
   "outputs": [
    {
     "name": "stdout",
     "output_type": "stream",
     "text": [
      "<class 'pandas.core.frame.DataFrame'>\n",
      "RangeIndex: 6361 entries, 0 to 6360\n",
      "Data columns (total 2 columns):\n",
      " #   Column         Non-Null Count  Dtype \n",
      "---  ------         --------------  ----- \n",
      " 0   customerID     6361 non-null   object\n",
      " 1   MultipleLines  6361 non-null   object\n",
      "dtypes: object(2)\n",
      "memory usage: 99.5+ KB\n"
     ]
    },
    {
     "data": {
      "text/plain": [
       "None"
      ]
     },
     "metadata": {},
     "output_type": "display_data"
    },
    {
     "data": {
      "text/html": [
       "<div>\n",
       "<style scoped>\n",
       "    .dataframe tbody tr th:only-of-type {\n",
       "        vertical-align: middle;\n",
       "    }\n",
       "\n",
       "    .dataframe tbody tr th {\n",
       "        vertical-align: top;\n",
       "    }\n",
       "\n",
       "    .dataframe thead th {\n",
       "        text-align: right;\n",
       "    }\n",
       "</style>\n",
       "<table border=\"1\" class=\"dataframe\">\n",
       "  <thead>\n",
       "    <tr style=\"text-align: right;\">\n",
       "      <th></th>\n",
       "      <th>customerID</th>\n",
       "      <th>MultipleLines</th>\n",
       "    </tr>\n",
       "  </thead>\n",
       "  <tbody>\n",
       "    <tr>\n",
       "      <th>0</th>\n",
       "      <td>5575-GNVDE</td>\n",
       "      <td>No</td>\n",
       "    </tr>\n",
       "    <tr>\n",
       "      <th>1</th>\n",
       "      <td>3668-QPYBK</td>\n",
       "      <td>No</td>\n",
       "    </tr>\n",
       "    <tr>\n",
       "      <th>2</th>\n",
       "      <td>9237-HQITU</td>\n",
       "      <td>No</td>\n",
       "    </tr>\n",
       "    <tr>\n",
       "      <th>3</th>\n",
       "      <td>9305-CDSKC</td>\n",
       "      <td>Yes</td>\n",
       "    </tr>\n",
       "    <tr>\n",
       "      <th>4</th>\n",
       "      <td>1452-KIOVK</td>\n",
       "      <td>Yes</td>\n",
       "    </tr>\n",
       "  </tbody>\n",
       "</table>\n",
       "</div>"
      ],
      "text/plain": [
       "   customerID MultipleLines\n",
       "0  5575-GNVDE            No\n",
       "1  3668-QPYBK            No\n",
       "2  9237-HQITU            No\n",
       "3  9305-CDSKC           Yes\n",
       "4  1452-KIOVK           Yes"
      ]
     },
     "metadata": {},
     "output_type": "display_data"
    }
   ],
   "source": [
    "show_df(phone_df)"
   ]
  },
  {
   "cell_type": "markdown",
   "metadata": {},
   "source": [
    "## Preprocessing data"
   ]
  },
  {
   "cell_type": "markdown",
   "metadata": {},
   "source": [
    "To fill gaps and assign proper data types, we need to apply next transformations:<br>\n",
    "<ul>\n",
    "<li>contract</li>\n",
    "<ol>\n",
    "    <li>TotalCharges - fill empty strings and missed values with \"0\"</li>\n",
    "    <li>TotalCharges - convert to float64</li>\n",
    "    <li>EndDate - replace \"No\" to \"2020-02-01\", convert to datetime</li>\n",
    "    <li>BeginDate - convert to datetime</li>\n",
    "    <li>duration - compute as EndDate - BeginDate</li>\n",
    "    <li>broken - synthetic boolean feature, equal \"1\" if contract was broken, else \"0\"</li>\n",
    "</ol>\n",
    "<li>internet</li>\n",
    "<ol>\n",
    "    <li>isInternet - feature shows, that client uses internet</li>\n",
    "</ol>\n",
    "<li>phone</li>\n",
    "<ol>\n",
    "    <li>isPhone - feature shows, that client uses phone</li>\n",
    "</ol>\n",
    "<li>personal</li>\n",
    "<ol>\n",
    "    <li>SeniorCitizen - replace \"1\" and \"0\" values to \"Yes\" and \"No\" accordingly, so it will more \"readable\" and used as category</li>\n",
    "</ol>\n",
    "</ul>"
   ]
  },
  {
   "cell_type": "markdown",
   "metadata": {},
   "source": [
    "### Contract"
   ]
  },
  {
   "cell_type": "code",
   "execution_count": 32,
   "metadata": {},
   "outputs": [
    {
     "data": {
      "text/plain": [
       "['2019-12-01 00:00:00',\n",
       " '2019-11-01 00:00:00',\n",
       " '2019-10-01 00:00:00',\n",
       " '2020-01-01 00:00:00']"
      ]
     },
     "execution_count": 32,
     "metadata": {},
     "output_type": "execute_result"
    }
   ],
   "source": [
    "[*contract_df.loc[contract_df['EndDate'] != \"No\",'EndDate'].unique()]"
   ]
  },
  {
   "cell_type": "markdown",
   "metadata": {},
   "source": [
    "Clients started to leave in 2019-10-01"
   ]
  },
  {
   "cell_type": "code",
   "execution_count": 33,
   "metadata": {},
   "outputs": [],
   "source": [
    "contract_df.loc[contract_df['TotalCharges'].str.strip() == '', 'TotalCharges'] = 0\n",
    "contract_df.loc[contract_df['EndDate'] == \"No\", 'EndDate'] = '2020-02-01 00:00:00'\n",
    "contract_df['EndDate'] = pd.to_datetime(contract_df['EndDate'], format='%Y-%m-%d %H:%M:%S')\n",
    "contract_df['BeginDate'] = pd.to_datetime(contract_df['BeginDate'], format='%Y-%m-%d')\n",
    "contract_df['TotalCharges'] = contract_df['TotalCharges'].astype('float64')\n",
    "contract_df['duration'] = contract_df['EndDate'] - contract_df['BeginDate']\n",
    "contract_df['broken'] = contract_df['EndDate'] < '2020-02-01'\n",
    "contract_df['duration'] = contract_df['duration'].dt.days"
   ]
  },
  {
   "cell_type": "markdown",
   "metadata": {},
   "source": [
    "Lets check dataframe with slice1: EndDate = '2020-02-01' and slice2: EndDate < '2020-02-01', so we can check if synthetic features were made correctly."
   ]
  },
  {
   "cell_type": "code",
   "execution_count": 34,
   "metadata": {},
   "outputs": [
    {
     "data": {
      "text/html": [
       "<div>\n",
       "<style scoped>\n",
       "    .dataframe tbody tr th:only-of-type {\n",
       "        vertical-align: middle;\n",
       "    }\n",
       "\n",
       "    .dataframe tbody tr th {\n",
       "        vertical-align: top;\n",
       "    }\n",
       "\n",
       "    .dataframe thead th {\n",
       "        text-align: right;\n",
       "    }\n",
       "</style>\n",
       "<table border=\"1\" class=\"dataframe\">\n",
       "  <thead>\n",
       "    <tr style=\"text-align: right;\">\n",
       "      <th></th>\n",
       "      <th>customerID</th>\n",
       "      <th>BeginDate</th>\n",
       "      <th>EndDate</th>\n",
       "      <th>Type</th>\n",
       "      <th>PaperlessBilling</th>\n",
       "      <th>PaymentMethod</th>\n",
       "      <th>MonthlyCharges</th>\n",
       "      <th>TotalCharges</th>\n",
       "      <th>duration</th>\n",
       "      <th>broken</th>\n",
       "    </tr>\n",
       "  </thead>\n",
       "  <tbody>\n",
       "    <tr>\n",
       "      <th>0</th>\n",
       "      <td>7590-VHVEG</td>\n",
       "      <td>2020-01-01</td>\n",
       "      <td>2020-02-01</td>\n",
       "      <td>Month-to-month</td>\n",
       "      <td>Yes</td>\n",
       "      <td>Electronic check</td>\n",
       "      <td>29.85</td>\n",
       "      <td>29.85</td>\n",
       "      <td>31</td>\n",
       "      <td>False</td>\n",
       "    </tr>\n",
       "    <tr>\n",
       "      <th>1</th>\n",
       "      <td>5575-GNVDE</td>\n",
       "      <td>2017-04-01</td>\n",
       "      <td>2020-02-01</td>\n",
       "      <td>One year</td>\n",
       "      <td>No</td>\n",
       "      <td>Mailed check</td>\n",
       "      <td>56.95</td>\n",
       "      <td>1889.50</td>\n",
       "      <td>1036</td>\n",
       "      <td>False</td>\n",
       "    </tr>\n",
       "    <tr>\n",
       "      <th>3</th>\n",
       "      <td>7795-CFOCW</td>\n",
       "      <td>2016-05-01</td>\n",
       "      <td>2020-02-01</td>\n",
       "      <td>One year</td>\n",
       "      <td>No</td>\n",
       "      <td>Bank transfer (automatic)</td>\n",
       "      <td>42.30</td>\n",
       "      <td>1840.75</td>\n",
       "      <td>1371</td>\n",
       "      <td>False</td>\n",
       "    </tr>\n",
       "    <tr>\n",
       "      <th>6</th>\n",
       "      <td>1452-KIOVK</td>\n",
       "      <td>2018-04-01</td>\n",
       "      <td>2020-02-01</td>\n",
       "      <td>Month-to-month</td>\n",
       "      <td>Yes</td>\n",
       "      <td>Credit card (automatic)</td>\n",
       "      <td>89.10</td>\n",
       "      <td>1949.40</td>\n",
       "      <td>671</td>\n",
       "      <td>False</td>\n",
       "    </tr>\n",
       "    <tr>\n",
       "      <th>7</th>\n",
       "      <td>6713-OKOMC</td>\n",
       "      <td>2019-04-01</td>\n",
       "      <td>2020-02-01</td>\n",
       "      <td>Month-to-month</td>\n",
       "      <td>No</td>\n",
       "      <td>Mailed check</td>\n",
       "      <td>29.75</td>\n",
       "      <td>301.90</td>\n",
       "      <td>306</td>\n",
       "      <td>False</td>\n",
       "    </tr>\n",
       "  </tbody>\n",
       "</table>\n",
       "</div>"
      ],
      "text/plain": [
       "   customerID  BeginDate    EndDate            Type PaperlessBilling  \\\n",
       "0  7590-VHVEG 2020-01-01 2020-02-01  Month-to-month              Yes   \n",
       "1  5575-GNVDE 2017-04-01 2020-02-01        One year               No   \n",
       "3  7795-CFOCW 2016-05-01 2020-02-01        One year               No   \n",
       "6  1452-KIOVK 2018-04-01 2020-02-01  Month-to-month              Yes   \n",
       "7  6713-OKOMC 2019-04-01 2020-02-01  Month-to-month               No   \n",
       "\n",
       "               PaymentMethod  MonthlyCharges  TotalCharges  duration  broken  \n",
       "0           Electronic check           29.85         29.85        31   False  \n",
       "1               Mailed check           56.95       1889.50      1036   False  \n",
       "3  Bank transfer (automatic)           42.30       1840.75      1371   False  \n",
       "6    Credit card (automatic)           89.10       1949.40       671   False  \n",
       "7               Mailed check           29.75        301.90       306   False  "
      ]
     },
     "metadata": {},
     "output_type": "display_data"
    },
    {
     "data": {
      "text/html": [
       "<div>\n",
       "<style scoped>\n",
       "    .dataframe tbody tr th:only-of-type {\n",
       "        vertical-align: middle;\n",
       "    }\n",
       "\n",
       "    .dataframe tbody tr th {\n",
       "        vertical-align: top;\n",
       "    }\n",
       "\n",
       "    .dataframe thead th {\n",
       "        text-align: right;\n",
       "    }\n",
       "</style>\n",
       "<table border=\"1\" class=\"dataframe\">\n",
       "  <thead>\n",
       "    <tr style=\"text-align: right;\">\n",
       "      <th></th>\n",
       "      <th>customerID</th>\n",
       "      <th>BeginDate</th>\n",
       "      <th>EndDate</th>\n",
       "      <th>Type</th>\n",
       "      <th>PaperlessBilling</th>\n",
       "      <th>PaymentMethod</th>\n",
       "      <th>MonthlyCharges</th>\n",
       "      <th>TotalCharges</th>\n",
       "      <th>duration</th>\n",
       "      <th>broken</th>\n",
       "    </tr>\n",
       "  </thead>\n",
       "  <tbody>\n",
       "    <tr>\n",
       "      <th>2</th>\n",
       "      <td>3668-QPYBK</td>\n",
       "      <td>2019-10-01</td>\n",
       "      <td>2019-12-01</td>\n",
       "      <td>Month-to-month</td>\n",
       "      <td>Yes</td>\n",
       "      <td>Mailed check</td>\n",
       "      <td>53.85</td>\n",
       "      <td>108.15</td>\n",
       "      <td>61</td>\n",
       "      <td>True</td>\n",
       "    </tr>\n",
       "    <tr>\n",
       "      <th>4</th>\n",
       "      <td>9237-HQITU</td>\n",
       "      <td>2019-09-01</td>\n",
       "      <td>2019-11-01</td>\n",
       "      <td>Month-to-month</td>\n",
       "      <td>Yes</td>\n",
       "      <td>Electronic check</td>\n",
       "      <td>70.70</td>\n",
       "      <td>151.65</td>\n",
       "      <td>61</td>\n",
       "      <td>True</td>\n",
       "    </tr>\n",
       "    <tr>\n",
       "      <th>5</th>\n",
       "      <td>9305-CDSKC</td>\n",
       "      <td>2019-03-01</td>\n",
       "      <td>2019-11-01</td>\n",
       "      <td>Month-to-month</td>\n",
       "      <td>Yes</td>\n",
       "      <td>Electronic check</td>\n",
       "      <td>99.65</td>\n",
       "      <td>820.50</td>\n",
       "      <td>245</td>\n",
       "      <td>True</td>\n",
       "    </tr>\n",
       "    <tr>\n",
       "      <th>8</th>\n",
       "      <td>7892-POOKP</td>\n",
       "      <td>2017-07-01</td>\n",
       "      <td>2019-11-01</td>\n",
       "      <td>Month-to-month</td>\n",
       "      <td>Yes</td>\n",
       "      <td>Electronic check</td>\n",
       "      <td>104.80</td>\n",
       "      <td>3046.05</td>\n",
       "      <td>853</td>\n",
       "      <td>True</td>\n",
       "    </tr>\n",
       "    <tr>\n",
       "      <th>13</th>\n",
       "      <td>0280-XJGEX</td>\n",
       "      <td>2015-09-01</td>\n",
       "      <td>2019-10-01</td>\n",
       "      <td>Month-to-month</td>\n",
       "      <td>Yes</td>\n",
       "      <td>Bank transfer (automatic)</td>\n",
       "      <td>103.70</td>\n",
       "      <td>5036.30</td>\n",
       "      <td>1491</td>\n",
       "      <td>True</td>\n",
       "    </tr>\n",
       "  </tbody>\n",
       "</table>\n",
       "</div>"
      ],
      "text/plain": [
       "    customerID  BeginDate    EndDate            Type PaperlessBilling  \\\n",
       "2   3668-QPYBK 2019-10-01 2019-12-01  Month-to-month              Yes   \n",
       "4   9237-HQITU 2019-09-01 2019-11-01  Month-to-month              Yes   \n",
       "5   9305-CDSKC 2019-03-01 2019-11-01  Month-to-month              Yes   \n",
       "8   7892-POOKP 2017-07-01 2019-11-01  Month-to-month              Yes   \n",
       "13  0280-XJGEX 2015-09-01 2019-10-01  Month-to-month              Yes   \n",
       "\n",
       "                PaymentMethod  MonthlyCharges  TotalCharges  duration  broken  \n",
       "2                Mailed check           53.85        108.15        61    True  \n",
       "4            Electronic check           70.70        151.65        61    True  \n",
       "5            Electronic check           99.65        820.50       245    True  \n",
       "8            Electronic check          104.80       3046.05       853    True  \n",
       "13  Bank transfer (automatic)          103.70       5036.30      1491    True  "
      ]
     },
     "metadata": {},
     "output_type": "display_data"
    }
   ],
   "source": [
    "display(contract_df[contract_df['EndDate']== '2020-02-01'].head(5))\n",
    "display(contract_df[contract_df['EndDate'] < '2020-02-01'].head(5))"
   ]
  },
  {
   "cell_type": "markdown",
   "metadata": {},
   "source": [
    "We drop BeginDate and EndDate, because we cant use them as features (or they become leakage)."
   ]
  },
  {
   "cell_type": "code",
   "execution_count": 35,
   "metadata": {},
   "outputs": [
    {
     "name": "stdout",
     "output_type": "stream",
     "text": [
      "<class 'pandas.core.frame.DataFrame'>\n",
      "RangeIndex: 7043 entries, 0 to 7042\n",
      "Data columns (total 8 columns):\n",
      " #   Column            Non-Null Count  Dtype  \n",
      "---  ------            --------------  -----  \n",
      " 0   customerID        7043 non-null   object \n",
      " 1   Type              7043 non-null   object \n",
      " 2   PaperlessBilling  7043 non-null   object \n",
      " 3   PaymentMethod     7043 non-null   object \n",
      " 4   MonthlyCharges    7043 non-null   float64\n",
      " 5   TotalCharges      7043 non-null   float64\n",
      " 6   duration          7043 non-null   int64  \n",
      " 7   broken            7043 non-null   bool   \n",
      "dtypes: bool(1), float64(2), int64(1), object(4)\n",
      "memory usage: 392.2+ KB\n"
     ]
    }
   ],
   "source": [
    "contract_df = contract_df.drop(['BeginDate', 'EndDate'], axis=1)\n",
    "contract_df.info()"
   ]
  },
  {
   "cell_type": "markdown",
   "metadata": {},
   "source": [
    "### Internet"
   ]
  },
  {
   "cell_type": "code",
   "execution_count": 36,
   "metadata": {},
   "outputs": [
    {
     "name": "stdout",
     "output_type": "stream",
     "text": [
      "<class 'pandas.core.frame.DataFrame'>\n",
      "RangeIndex: 5517 entries, 0 to 5516\n",
      "Data columns (total 9 columns):\n",
      " #   Column            Non-Null Count  Dtype \n",
      "---  ------            --------------  ----- \n",
      " 0   customerID        5517 non-null   object\n",
      " 1   InternetService   5517 non-null   object\n",
      " 2   OnlineSecurity    5517 non-null   object\n",
      " 3   OnlineBackup      5517 non-null   object\n",
      " 4   DeviceProtection  5517 non-null   object\n",
      " 5   TechSupport       5517 non-null   object\n",
      " 6   StreamingTV       5517 non-null   object\n",
      " 7   StreamingMovies   5517 non-null   object\n",
      " 8   isInternet        5517 non-null   object\n",
      "dtypes: object(9)\n",
      "memory usage: 388.0+ KB\n"
     ]
    },
    {
     "data": {
      "text/plain": [
       "None"
      ]
     },
     "metadata": {},
     "output_type": "display_data"
    },
    {
     "data": {
      "text/html": [
       "<div>\n",
       "<style scoped>\n",
       "    .dataframe tbody tr th:only-of-type {\n",
       "        vertical-align: middle;\n",
       "    }\n",
       "\n",
       "    .dataframe tbody tr th {\n",
       "        vertical-align: top;\n",
       "    }\n",
       "\n",
       "    .dataframe thead th {\n",
       "        text-align: right;\n",
       "    }\n",
       "</style>\n",
       "<table border=\"1\" class=\"dataframe\">\n",
       "  <thead>\n",
       "    <tr style=\"text-align: right;\">\n",
       "      <th></th>\n",
       "      <th>customerID</th>\n",
       "      <th>InternetService</th>\n",
       "      <th>OnlineSecurity</th>\n",
       "      <th>OnlineBackup</th>\n",
       "      <th>DeviceProtection</th>\n",
       "      <th>TechSupport</th>\n",
       "      <th>StreamingTV</th>\n",
       "      <th>StreamingMovies</th>\n",
       "      <th>isInternet</th>\n",
       "    </tr>\n",
       "  </thead>\n",
       "  <tbody>\n",
       "    <tr>\n",
       "      <th>0</th>\n",
       "      <td>7590-VHVEG</td>\n",
       "      <td>DSL</td>\n",
       "      <td>No</td>\n",
       "      <td>Yes</td>\n",
       "      <td>No</td>\n",
       "      <td>No</td>\n",
       "      <td>No</td>\n",
       "      <td>No</td>\n",
       "      <td>Yes</td>\n",
       "    </tr>\n",
       "    <tr>\n",
       "      <th>1</th>\n",
       "      <td>5575-GNVDE</td>\n",
       "      <td>DSL</td>\n",
       "      <td>Yes</td>\n",
       "      <td>No</td>\n",
       "      <td>Yes</td>\n",
       "      <td>No</td>\n",
       "      <td>No</td>\n",
       "      <td>No</td>\n",
       "      <td>Yes</td>\n",
       "    </tr>\n",
       "    <tr>\n",
       "      <th>2</th>\n",
       "      <td>3668-QPYBK</td>\n",
       "      <td>DSL</td>\n",
       "      <td>Yes</td>\n",
       "      <td>Yes</td>\n",
       "      <td>No</td>\n",
       "      <td>No</td>\n",
       "      <td>No</td>\n",
       "      <td>No</td>\n",
       "      <td>Yes</td>\n",
       "    </tr>\n",
       "    <tr>\n",
       "      <th>3</th>\n",
       "      <td>7795-CFOCW</td>\n",
       "      <td>DSL</td>\n",
       "      <td>Yes</td>\n",
       "      <td>No</td>\n",
       "      <td>Yes</td>\n",
       "      <td>Yes</td>\n",
       "      <td>No</td>\n",
       "      <td>No</td>\n",
       "      <td>Yes</td>\n",
       "    </tr>\n",
       "    <tr>\n",
       "      <th>4</th>\n",
       "      <td>9237-HQITU</td>\n",
       "      <td>Fiber optic</td>\n",
       "      <td>No</td>\n",
       "      <td>No</td>\n",
       "      <td>No</td>\n",
       "      <td>No</td>\n",
       "      <td>No</td>\n",
       "      <td>No</td>\n",
       "      <td>Yes</td>\n",
       "    </tr>\n",
       "  </tbody>\n",
       "</table>\n",
       "</div>"
      ],
      "text/plain": [
       "   customerID InternetService OnlineSecurity OnlineBackup DeviceProtection  \\\n",
       "0  7590-VHVEG             DSL             No          Yes               No   \n",
       "1  5575-GNVDE             DSL            Yes           No              Yes   \n",
       "2  3668-QPYBK             DSL            Yes          Yes               No   \n",
       "3  7795-CFOCW             DSL            Yes           No              Yes   \n",
       "4  9237-HQITU     Fiber optic             No           No               No   \n",
       "\n",
       "  TechSupport StreamingTV StreamingMovies isInternet  \n",
       "0          No          No              No        Yes  \n",
       "1          No          No              No        Yes  \n",
       "2          No          No              No        Yes  \n",
       "3         Yes          No              No        Yes  \n",
       "4          No          No              No        Yes  "
      ]
     },
     "metadata": {},
     "output_type": "display_data"
    }
   ],
   "source": [
    "internet_df['isInternet'] = \"Yes\"\n",
    "show_df(internet_df)"
   ]
  },
  {
   "cell_type": "markdown",
   "metadata": {},
   "source": [
    "### Phone"
   ]
  },
  {
   "cell_type": "code",
   "execution_count": 37,
   "metadata": {},
   "outputs": [
    {
     "name": "stdout",
     "output_type": "stream",
     "text": [
      "<class 'pandas.core.frame.DataFrame'>\n",
      "RangeIndex: 6361 entries, 0 to 6360\n",
      "Data columns (total 3 columns):\n",
      " #   Column         Non-Null Count  Dtype \n",
      "---  ------         --------------  ----- \n",
      " 0   customerID     6361 non-null   object\n",
      " 1   MultipleLines  6361 non-null   object\n",
      " 2   isPhone        6361 non-null   object\n",
      "dtypes: object(3)\n",
      "memory usage: 149.2+ KB\n"
     ]
    },
    {
     "data": {
      "text/plain": [
       "None"
      ]
     },
     "metadata": {},
     "output_type": "display_data"
    },
    {
     "data": {
      "text/html": [
       "<div>\n",
       "<style scoped>\n",
       "    .dataframe tbody tr th:only-of-type {\n",
       "        vertical-align: middle;\n",
       "    }\n",
       "\n",
       "    .dataframe tbody tr th {\n",
       "        vertical-align: top;\n",
       "    }\n",
       "\n",
       "    .dataframe thead th {\n",
       "        text-align: right;\n",
       "    }\n",
       "</style>\n",
       "<table border=\"1\" class=\"dataframe\">\n",
       "  <thead>\n",
       "    <tr style=\"text-align: right;\">\n",
       "      <th></th>\n",
       "      <th>customerID</th>\n",
       "      <th>MultipleLines</th>\n",
       "      <th>isPhone</th>\n",
       "    </tr>\n",
       "  </thead>\n",
       "  <tbody>\n",
       "    <tr>\n",
       "      <th>0</th>\n",
       "      <td>5575-GNVDE</td>\n",
       "      <td>No</td>\n",
       "      <td>Yes</td>\n",
       "    </tr>\n",
       "    <tr>\n",
       "      <th>1</th>\n",
       "      <td>3668-QPYBK</td>\n",
       "      <td>No</td>\n",
       "      <td>Yes</td>\n",
       "    </tr>\n",
       "    <tr>\n",
       "      <th>2</th>\n",
       "      <td>9237-HQITU</td>\n",
       "      <td>No</td>\n",
       "      <td>Yes</td>\n",
       "    </tr>\n",
       "    <tr>\n",
       "      <th>3</th>\n",
       "      <td>9305-CDSKC</td>\n",
       "      <td>Yes</td>\n",
       "      <td>Yes</td>\n",
       "    </tr>\n",
       "    <tr>\n",
       "      <th>4</th>\n",
       "      <td>1452-KIOVK</td>\n",
       "      <td>Yes</td>\n",
       "      <td>Yes</td>\n",
       "    </tr>\n",
       "  </tbody>\n",
       "</table>\n",
       "</div>"
      ],
      "text/plain": [
       "   customerID MultipleLines isPhone\n",
       "0  5575-GNVDE            No     Yes\n",
       "1  3668-QPYBK            No     Yes\n",
       "2  9237-HQITU            No     Yes\n",
       "3  9305-CDSKC           Yes     Yes\n",
       "4  1452-KIOVK           Yes     Yes"
      ]
     },
     "metadata": {},
     "output_type": "display_data"
    }
   ],
   "source": [
    "phone_df['isPhone'] = \"Yes\"\n",
    "show_df(phone_df)"
   ]
  },
  {
   "cell_type": "markdown",
   "metadata": {},
   "source": [
    "### personal"
   ]
  },
  {
   "cell_type": "code",
   "execution_count": 38,
   "metadata": {},
   "outputs": [],
   "source": [
    "personal_df['SeniorCitizen'] = personal_df['SeniorCitizen'].astype('str')\n",
    "personal_df.loc[personal_df['SeniorCitizen'] == '1', 'SeniorCitizen'] = \"Yes\"\n",
    "personal_df.loc[personal_df['SeniorCitizen'] == '0', 'SeniorCitizen'] = \"No\""
   ]
  },
  {
   "cell_type": "markdown",
   "metadata": {},
   "source": [
    "### Merge tables"
   ]
  },
  {
   "cell_type": "code",
   "execution_count": 39,
   "metadata": {},
   "outputs": [
    {
     "name": "stdout",
     "output_type": "stream",
     "text": [
      "<class 'pandas.core.frame.DataFrame'>\n",
      "Int64Index: 7043 entries, 0 to 7042\n",
      "Data columns (total 22 columns):\n",
      " #   Column            Non-Null Count  Dtype  \n",
      "---  ------            --------------  -----  \n",
      " 0   customerID        7043 non-null   object \n",
      " 1   gender            7043 non-null   object \n",
      " 2   SeniorCitizen     7043 non-null   object \n",
      " 3   Partner           7043 non-null   object \n",
      " 4   Dependents        7043 non-null   object \n",
      " 5   MultipleLines     6361 non-null   object \n",
      " 6   isPhone           6361 non-null   object \n",
      " 7   InternetService   5517 non-null   object \n",
      " 8   OnlineSecurity    5517 non-null   object \n",
      " 9   OnlineBackup      5517 non-null   object \n",
      " 10  DeviceProtection  5517 non-null   object \n",
      " 11  TechSupport       5517 non-null   object \n",
      " 12  StreamingTV       5517 non-null   object \n",
      " 13  StreamingMovies   5517 non-null   object \n",
      " 14  isInternet        5517 non-null   object \n",
      " 15  Type              7043 non-null   object \n",
      " 16  PaperlessBilling  7043 non-null   object \n",
      " 17  PaymentMethod     7043 non-null   object \n",
      " 18  MonthlyCharges    7043 non-null   float64\n",
      " 19  TotalCharges      7043 non-null   float64\n",
      " 20  duration          7043 non-null   int64  \n",
      " 21  broken            7043 non-null   bool   \n",
      "dtypes: bool(1), float64(2), int64(1), object(18)\n",
      "memory usage: 1.2+ MB\n",
      "None\n"
     ]
    }
   ],
   "source": [
    "df = personal_df.merge(phone_df,    how='outer', on='customerID')\\\n",
    "                .merge(internet_df, how='outer', on='customerID')\\\n",
    "                .merge(contract_df, how='outer', on='customerID')\n",
    "print(df.info())"
   ]
  },
  {
   "cell_type": "markdown",
   "metadata": {},
   "source": [
    "NA values in merged dataframe means, that some users use only internet or only phone (but not both). If user doesnt have internet, fill NA with False. Also apply same strategy to MultipleLines for phone data - if user doesnt have phone, he cant use multiple phone lines.\n",
    "Finally, we can drop. customerID, because it's not a feature."
   ]
  },
  {
   "cell_type": "code",
   "execution_count": 40,
   "metadata": {},
   "outputs": [
    {
     "name": "stdout",
     "output_type": "stream",
     "text": [
      "<class 'pandas.core.frame.DataFrame'>\n",
      "Int64Index: 7043 entries, 0 to 7042\n",
      "Data columns (total 21 columns):\n",
      " #   Column            Non-Null Count  Dtype  \n",
      "---  ------            --------------  -----  \n",
      " 0   gender            7043 non-null   object \n",
      " 1   SeniorCitizen     7043 non-null   object \n",
      " 2   Partner           7043 non-null   object \n",
      " 3   Dependents        7043 non-null   object \n",
      " 4   MultipleLines     7043 non-null   object \n",
      " 5   isPhone           7043 non-null   object \n",
      " 6   InternetService   7043 non-null   object \n",
      " 7   OnlineSecurity    7043 non-null   object \n",
      " 8   OnlineBackup      7043 non-null   object \n",
      " 9   DeviceProtection  7043 non-null   object \n",
      " 10  TechSupport       7043 non-null   object \n",
      " 11  StreamingTV       7043 non-null   object \n",
      " 12  StreamingMovies   7043 non-null   object \n",
      " 13  isInternet        7043 non-null   object \n",
      " 14  Type              7043 non-null   object \n",
      " 15  PaperlessBilling  7043 non-null   object \n",
      " 16  PaymentMethod     7043 non-null   object \n",
      " 17  MonthlyCharges    7043 non-null   float64\n",
      " 18  TotalCharges      7043 non-null   float64\n",
      " 19  duration          7043 non-null   int64  \n",
      " 20  broken            7043 non-null   bool   \n",
      "dtypes: bool(1), float64(2), int64(1), object(17)\n",
      "memory usage: 1.1+ MB\n"
     ]
    }
   ],
   "source": [
    "df.fillna(\"No\", inplace=True)\n",
    "df.drop('customerID', axis=1, inplace=True)\n",
    "df.info()"
   ]
  },
  {
   "cell_type": "markdown",
   "metadata": {},
   "source": [
    "## Examine features and compiling a portrait of leaving client"
   ]
  },
  {
   "cell_type": "markdown",
   "metadata": {},
   "source": [
    "Let's calculate the percentage of clients who left (by month)."
   ]
  },
  {
   "cell_type": "code",
   "execution_count": 41,
   "metadata": {},
   "outputs": [
    {
     "name": "stdout",
     "output_type": "stream",
     "text": [
      "1869/7043 clients left, percentage: (26.54%)\n"
     ]
    }
   ],
   "source": [
    "print(\"{:d}/{:d} clients left, percentage: ({:.2f}%)\".format(df['broken'].sum(),\n",
    "                                                    df['broken'].count(),\n",
    "                                                    100*df['broken'].mean()))"
   ]
  },
  {
   "cell_type": "markdown",
   "metadata": {},
   "source": [
    "Compare statistics of monthly charges for whole dataset and for clients, who left."
   ]
  },
  {
   "cell_type": "code",
   "execution_count": 42,
   "metadata": {},
   "outputs": [
    {
     "name": "stdout",
     "output_type": "stream",
     "text": [
      "Total  | MIN 18.25 | MAX 118.75 | AVG 64.76 | Q25 35.50 | Q50 70.35 | Q75 89.85\n",
      "Broken | MIN 18.85 | MAX 118.35 | AVG 74.44 | Q25 56.15 | Q50 79.65 | Q75 94.20\n"
     ]
    }
   ],
   "source": [
    "amc = df['MonthlyCharges'].to_numpy() # all monthly charges\n",
    "bmc = df.loc[df['broken']==1, 'MonthlyCharges'].to_numpy() # broken monthly charges\n",
    "print(\"Total  | MIN {:.2f} | MAX {:.2f} | AVG {:.2f} | Q25 {:.2f} | Q50 {:.2f} | Q75 {:.2f}\".format(\n",
    "    amc.min(), amc.max(), amc.mean(), np.quantile(amc, 0.25), np.quantile(amc,0.5), np.quantile(amc,0.75))\n",
    "     )\n",
    "print(\"Broken | MIN {:.2f} | MAX {:.2f} | AVG {:.2f} | Q25 {:.2f} | Q50 {:.2f} | Q75 {:.2f}\".format(\n",
    "    bmc.min(), bmc.max(), bmc.mean(), np.quantile(bmc, 0.25), np.quantile(bmc,0.5), np.quantile(bmc,0.75))\n",
    ")"
   ]
  },
  {
   "cell_type": "markdown",
   "metadata": {},
   "source": [
    "We can see, that clients who left, payed more (difference in mean monthly charge is 9.7, difference in median is 9.3)"
   ]
  },
  {
   "cell_type": "code",
   "execution_count": 76,
   "metadata": {},
   "outputs": [
    {
     "name": "stdout",
     "output_type": "stream",
     "text": [
      "[Text(0.5, 1.0, 'Distribution of Monthly Charges for all users'), (10.0, 120.0)]\n"
     ]
    },
    {
     "data": {
      "image/png": "[encoded data removed]",
      "text/plain": [
       "<Figure size 432x288 with 1 Axes>"
      ]
     },
     "metadata": {
      "needs_background": "light"
     },
     "output_type": "display_data"
    },
    {
     "data": {
      "image/png": "[encoded data removed]",
      "text/plain": [
       "<Figure size 432x288 with 1 Axes>"
      ]
     },
     "metadata": {
      "needs_background": "light"
     },
     "output_type": "display_data"
    }
   ],
   "source": [
    "sb.histplot(data=df['MonthlyCharges'], bins=25).set(title=\"Distribution of Monthly Charges for all users\", xlim=(10,120))\n",
    "plt.figure();\n",
    "sb.histplot(data=df.loc[df['broken']==1, 'MonthlyCharges'], bins=25).set(title=\"Distribution of Monthly Charges for left clients\", xlim=(10,120))"
   ]
  },
  {
   "cell_type": "markdown",
   "metadata": {},
   "source": [
    "Among the clients who left, we can see a peak of about 20, 45 and a \"hump\" with a peak of about 80. Most likely, the peaks are related to the tariff network and more popular sets of additional services. Let's build for each group the distribution according to the type of connection (Internet/telephone)"
   ]
  },
  {
   "cell_type": "code",
   "execution_count": 78,
   "metadata": {},
   "outputs": [
    {
     "data": {
      "text/plain": [
       "<Figure size 432x288 with 0 Axes>"
      ]
     },
     "execution_count": 78,
     "metadata": {},
     "output_type": "execute_result"
    },
    {
     "data": {
      "image/png": "[encoded data removed]",
      "text/plain": [
       "<Figure size 432x288 with 1 Axes>"
      ]
     },
     "metadata": {},
     "output_type": "display_data"
    },
    {
     "data": {
      "image/png": "[encoded data removed]",
      "text/plain": [
       "<Figure size 432x288 with 1 Axes>"
      ]
     },
     "metadata": {},
     "output_type": "display_data"
    },
    {
     "data": {
      "text/plain": [
       "<Figure size 432x288 with 0 Axes>"
      ]
     },
     "metadata": {},
     "output_type": "display_data"
    }
   ],
   "source": [
    "df.groupby('isInternet')['isInternet'].count().plot.pie(title='Ratio of internet users to total')\n",
    "plt.figure()\n",
    "df.groupby('isPhone')['isPhone'].count().plot.pie(title='Ratio of phone users to total')\n",
    "plt.figure()"
   ]
  },
  {
   "cell_type": "code",
   "execution_count": 79,
   "metadata": {},
   "outputs": [
    {
     "name": "stdout",
     "output_type": "stream",
     "text": [
      "isInternet\n",
      "No     1526\n",
      "Yes    5517\n",
      "Name: isInternet, dtype: int64\n",
      "isInternet\n",
      "No      113\n",
      "Yes    1756\n",
      "Name: isInternet, dtype: int64\n"
     ]
    }
   ],
   "source": [
    "print(df.groupby('isInternet')['isInternet'].count())\n",
    "print(df[df['broken']==1].groupby('isInternet')['isInternet'].count())"
   ]
  },
  {
   "cell_type": "code",
   "execution_count": 80,
   "metadata": {},
   "outputs": [
    {
     "data": {
      "text/plain": [
       "<Figure size 432x288 with 0 Axes>"
      ]
     },
     "execution_count": 80,
     "metadata": {},
     "output_type": "execute_result"
    },
    {
     "data": {
      "image/png": "[encoded data removed]",
      "text/plain": [
       "<Figure size 432x288 with 1 Axes>"
      ]
     },
     "metadata": {},
     "output_type": "display_data"
    },
    {
     "data": {
      "image/png": "[encoded data removed]",
      "text/plain": [
       "<Figure size 432x288 with 1 Axes>"
      ]
     },
     "metadata": {},
     "output_type": "display_data"
    },
    {
     "data": {
      "text/plain": [
       "<Figure size 432x288 with 0 Axes>"
      ]
     },
     "metadata": {},
     "output_type": "display_data"
    }
   ],
   "source": [
    "df[df['broken']==1].groupby('isInternet')['isInternet'].count().plot.pie(title='Ratio of internet clients who left')\n",
    "plt.figure()\n",
    "df[df['broken']==1].groupby('isPhone')['isPhone'].count().plot.pie(title='Ratio of phone clients who left')\n",
    "plt.figure()"
   ]
  },
  {
   "cell_type": "markdown",
   "metadata": {},
   "source": [
    "The graphs above show that the share of Internet users among the users who left is higher than in the overall statistics. In the case of landline users, the shares are about the same. It can be assumed that Internet users are dissatisfied with the ratio of price to services provided.<br>\n",
    "Now let's examine the share of users of which services decreased and how the departure affected the users who used both the phone and the Internet."
   ]
  },
  {
   "cell_type": "code",
   "execution_count": 82,
   "metadata": {},
   "outputs": [
    {
     "name": "stdout",
     "output_type": "stream",
     "text": [
      "Both internet and phone | Left 1586 / 4835\n"
     ]
    }
   ],
   "source": [
    "print(\"Both internet and phone | Left {:d} / {:d}\".format(\n",
    "    df[(df['isInternet'] == \"Yes\") &\n",
    "       (df['isPhone']==\"Yes\") &\n",
    "       (df['broken'] == 1)].shape[0],\n",
    "    df[(df['isInternet'] == \"Yes\") &\n",
    "       (df['isPhone']==\"Yes\")].shape[0],\n",
    "))"
   ]
  },
  {
   "cell_type": "markdown",
   "metadata": {},
   "source": [
    "An interesting observation is that a total of 1,869 customers out of 7,043 left, with 1,586 who left using both landline and Internet service."
   ]
  },
  {
   "cell_type": "code",
   "execution_count": 87,
   "metadata": {},
   "outputs": [
    {
     "data": {
      "text/html": [
       "<div>\n",
       "<style scoped>\n",
       "    .dataframe tbody tr th:only-of-type {\n",
       "        vertical-align: middle;\n",
       "    }\n",
       "\n",
       "    .dataframe tbody tr th {\n",
       "        vertical-align: top;\n",
       "    }\n",
       "\n",
       "    .dataframe thead th {\n",
       "        text-align: right;\n",
       "    }\n",
       "</style>\n",
       "<table border=\"1\" class=\"dataframe\">\n",
       "  <thead>\n",
       "    <tr style=\"text-align: right;\">\n",
       "      <th></th>\n",
       "      <th>OnlineBackup</th>\n",
       "      <th>OnlineSecurity</th>\n",
       "      <th>DeviceProtection</th>\n",
       "      <th>StreamingTV</th>\n",
       "      <th>StreamingMovies</th>\n",
       "      <th>TechSupport</th>\n",
       "    </tr>\n",
       "  </thead>\n",
       "  <tbody>\n",
       "    <tr>\n",
       "      <th>No</th>\n",
       "      <td>29.2</td>\n",
       "      <td>31.3</td>\n",
       "      <td>28.7</td>\n",
       "      <td>24.3</td>\n",
       "      <td>24.4</td>\n",
       "      <td>31.2</td>\n",
       "    </tr>\n",
       "    <tr>\n",
       "      <th>Yes</th>\n",
       "      <td>21.5</td>\n",
       "      <td>14.6</td>\n",
       "      <td>22.5</td>\n",
       "      <td>30.1</td>\n",
       "      <td>29.9</td>\n",
       "      <td>15.2</td>\n",
       "    </tr>\n",
       "  </tbody>\n",
       "</table>\n",
       "</div>"
      ],
      "text/plain": [
       "     OnlineBackup  OnlineSecurity  DeviceProtection  StreamingTV  \\\n",
       "No           29.2            31.3              28.7         24.3   \n",
       "Yes          21.5            14.6              22.5         30.1   \n",
       "\n",
       "     StreamingMovies  TechSupport  \n",
       "No              24.4         31.2  \n",
       "Yes             29.9         15.2  "
      ]
     },
     "metadata": {},
     "output_type": "display_data"
    },
    {
     "data": {
      "image/png": "[encoded data removed]",
      "text/plain": [
       "<Figure size 432x288 with 1 Axes>"
      ]
     },
     "metadata": {
      "needs_background": "light"
     },
     "output_type": "display_data"
    },
    {
     "data": {
      "image/png": "[encoded data removed]",
      "text/plain": [
       "<Figure size 432x288 with 1 Axes>"
      ]
     },
     "metadata": {
      "needs_background": "light"
     },
     "output_type": "display_data"
    }
   ],
   "source": [
    "services_all = df.loc[:,['OnlineBackup', 'OnlineSecurity', 'DeviceProtection',\n",
    "                'StreamingTV', 'StreamingMovies', 'TechSupport']].apply(pd.Series.value_counts)\n",
    "services_leave = df.loc[df['broken']==1, [\n",
    "    'OnlineBackup', 'OnlineSecurity', 'DeviceProtection',\n",
    "    'StreamingTV', 'StreamingMovies', 'TechSupport']].apply(pd.Series.value_counts)\n",
    "\n",
    "services_all.plot(kind='bar')\n",
    "services_leave.plot(kind='bar')\n",
    "display(round(100*services_leave/services_all, 1))"
   ]
  },
  {
   "cell_type": "markdown",
   "metadata": {},
   "source": [
    "We can see, that almost 1/3 users of StreamingTV and StreamingMovies left.<br>\n",
    "Lets look how kids, family and age can influence on client behaviour."
   ]
  },
  {
   "cell_type": "code",
   "execution_count": 88,
   "metadata": {},
   "outputs": [
    {
     "data": {
      "text/html": [
       "<div>\n",
       "<style scoped>\n",
       "    .dataframe tbody tr th:only-of-type {\n",
       "        vertical-align: middle;\n",
       "    }\n",
       "\n",
       "    .dataframe tbody tr th {\n",
       "        vertical-align: top;\n",
       "    }\n",
       "\n",
       "    .dataframe thead th {\n",
       "        text-align: right;\n",
       "    }\n",
       "</style>\n",
       "<table border=\"1\" class=\"dataframe\">\n",
       "  <thead>\n",
       "    <tr style=\"text-align: right;\">\n",
       "      <th></th>\n",
       "      <th>SeniorCitizen</th>\n",
       "      <th>Dependents</th>\n",
       "      <th>Partner</th>\n",
       "    </tr>\n",
       "  </thead>\n",
       "  <tbody>\n",
       "    <tr>\n",
       "      <th>No</th>\n",
       "      <td>23.6</td>\n",
       "      <td>31.3</td>\n",
       "      <td>33.0</td>\n",
       "    </tr>\n",
       "    <tr>\n",
       "      <th>Yes</th>\n",
       "      <td>41.7</td>\n",
       "      <td>15.5</td>\n",
       "      <td>19.7</td>\n",
       "    </tr>\n",
       "  </tbody>\n",
       "</table>\n",
       "</div>"
      ],
      "text/plain": [
       "     SeniorCitizen  Dependents  Partner\n",
       "No            23.6        31.3     33.0\n",
       "Yes           41.7        15.5     19.7"
      ]
     },
     "metadata": {},
     "output_type": "display_data"
    },
    {
     "data": {
      "image/png": "[encoded data removed]",
      "text/plain": [
       "<Figure size 432x288 with 1 Axes>"
      ]
     },
     "metadata": {
      "needs_background": "light"
     },
     "output_type": "display_data"
    },
    {
     "data": {
      "image/png": "[encoded data removed]",
      "text/plain": [
       "<Figure size 432x288 with 1 Axes>"
      ]
     },
     "metadata": {
      "needs_background": "light"
     },
     "output_type": "display_data"
    }
   ],
   "source": [
    "services_all = df.loc[:,\n",
    "               ['SeniorCitizen', 'Dependents', 'Partner']].apply(pd.Series.value_counts)\n",
    "services_leave = df.loc[df['broken']==1,\n",
    "                        ['SeniorCitizen', 'Dependents', 'Partner']].apply(pd.Series.value_counts)\n",
    "services_all.plot(kind='bar')\n",
    "services_leave.plot(kind='bar')\n",
    "display(round(100*services_leave/services_all, 1))"
   ]
  },
  {
   "cell_type": "markdown",
   "metadata": {},
   "source": [
    "The proportion of the elderly among those leaving is noticeably higher than in the overall statistics."
   ]
  },
  {
   "cell_type": "markdown",
   "metadata": {},
   "source": [
    "So, the outgoing client, as a rule:\n",
    "<ul>\n",
    "<li>Pays more (there is shift in average and median monthly charge)</li>\n",
    "<li>Uses both the Internet and a telephone connection</li>\n",
    "<li>Usually have a package of Internet services includes StreamingTV and StreamingMovies</li>\n",
    "<li>Approximately one in four of those who leave belong to the group SeniorCitizen(retired)</li>\n",
    "</ul>"
   ]
  },
  {
   "cell_type": "markdown",
   "metadata": {},
   "source": [
    "## Model construction and analysis"
   ]
  },
  {
   "cell_type": "markdown",
   "metadata": {},
   "source": [
    "### Preparing features"
   ]
  },
  {
   "cell_type": "markdown",
   "metadata": {},
   "source": [
    "To build models and analyze them, it is necessary to remove unnecessary data and eliminate the risk of data leakage. We remove isPhone and isInternet columns."
   ]
  },
  {
   "cell_type": "code",
   "execution_count": 89,
   "metadata": {},
   "outputs": [],
   "source": [
    "df.drop(columns=['isInternet', 'isPhone'], axis=1, inplace=True)"
   ]
  },
  {
   "cell_type": "code",
   "execution_count": 90,
   "metadata": {},
   "outputs": [
    {
     "data": {
      "text/html": [
       "<div>\n",
       "<style scoped>\n",
       "    .dataframe tbody tr th:only-of-type {\n",
       "        vertical-align: middle;\n",
       "    }\n",
       "\n",
       "    .dataframe tbody tr th {\n",
       "        vertical-align: top;\n",
       "    }\n",
       "\n",
       "    .dataframe thead th {\n",
       "        text-align: right;\n",
       "    }\n",
       "</style>\n",
       "<table border=\"1\" class=\"dataframe\">\n",
       "  <thead>\n",
       "    <tr style=\"text-align: right;\">\n",
       "      <th></th>\n",
       "      <th>gender</th>\n",
       "      <th>SeniorCitizen</th>\n",
       "      <th>Partner</th>\n",
       "      <th>Dependents</th>\n",
       "      <th>MultipleLines</th>\n",
       "      <th>InternetService</th>\n",
       "      <th>OnlineSecurity</th>\n",
       "      <th>OnlineBackup</th>\n",
       "      <th>DeviceProtection</th>\n",
       "      <th>TechSupport</th>\n",
       "      <th>StreamingTV</th>\n",
       "      <th>StreamingMovies</th>\n",
       "      <th>Type</th>\n",
       "      <th>PaperlessBilling</th>\n",
       "      <th>PaymentMethod</th>\n",
       "      <th>MonthlyCharges</th>\n",
       "      <th>TotalCharges</th>\n",
       "      <th>duration</th>\n",
       "      <th>broken</th>\n",
       "    </tr>\n",
       "  </thead>\n",
       "  <tbody>\n",
       "    <tr>\n",
       "      <th>0</th>\n",
       "      <td>Female</td>\n",
       "      <td>No</td>\n",
       "      <td>Yes</td>\n",
       "      <td>No</td>\n",
       "      <td>No</td>\n",
       "      <td>DSL</td>\n",
       "      <td>No</td>\n",
       "      <td>Yes</td>\n",
       "      <td>No</td>\n",
       "      <td>No</td>\n",
       "      <td>No</td>\n",
       "      <td>No</td>\n",
       "      <td>Month-to-month</td>\n",
       "      <td>Yes</td>\n",
       "      <td>Electronic check</td>\n",
       "      <td>29.85</td>\n",
       "      <td>29.85</td>\n",
       "      <td>31</td>\n",
       "      <td>False</td>\n",
       "    </tr>\n",
       "    <tr>\n",
       "      <th>1</th>\n",
       "      <td>Male</td>\n",
       "      <td>No</td>\n",
       "      <td>No</td>\n",
       "      <td>No</td>\n",
       "      <td>No</td>\n",
       "      <td>DSL</td>\n",
       "      <td>Yes</td>\n",
       "      <td>No</td>\n",
       "      <td>Yes</td>\n",
       "      <td>No</td>\n",
       "      <td>No</td>\n",
       "      <td>No</td>\n",
       "      <td>One year</td>\n",
       "      <td>No</td>\n",
       "      <td>Mailed check</td>\n",
       "      <td>56.95</td>\n",
       "      <td>1889.50</td>\n",
       "      <td>1036</td>\n",
       "      <td>False</td>\n",
       "    </tr>\n",
       "    <tr>\n",
       "      <th>2</th>\n",
       "      <td>Male</td>\n",
       "      <td>No</td>\n",
       "      <td>No</td>\n",
       "      <td>No</td>\n",
       "      <td>No</td>\n",
       "      <td>DSL</td>\n",
       "      <td>Yes</td>\n",
       "      <td>Yes</td>\n",
       "      <td>No</td>\n",
       "      <td>No</td>\n",
       "      <td>No</td>\n",
       "      <td>No</td>\n",
       "      <td>Month-to-month</td>\n",
       "      <td>Yes</td>\n",
       "      <td>Mailed check</td>\n",
       "      <td>53.85</td>\n",
       "      <td>108.15</td>\n",
       "      <td>61</td>\n",
       "      <td>True</td>\n",
       "    </tr>\n",
       "    <tr>\n",
       "      <th>3</th>\n",
       "      <td>Male</td>\n",
       "      <td>No</td>\n",
       "      <td>No</td>\n",
       "      <td>No</td>\n",
       "      <td>No</td>\n",
       "      <td>DSL</td>\n",
       "      <td>Yes</td>\n",
       "      <td>No</td>\n",
       "      <td>Yes</td>\n",
       "      <td>Yes</td>\n",
       "      <td>No</td>\n",
       "      <td>No</td>\n",
       "      <td>One year</td>\n",
       "      <td>No</td>\n",
       "      <td>Bank transfer (automatic)</td>\n",
       "      <td>42.30</td>\n",
       "      <td>1840.75</td>\n",
       "      <td>1371</td>\n",
       "      <td>False</td>\n",
       "    </tr>\n",
       "    <tr>\n",
       "      <th>4</th>\n",
       "      <td>Female</td>\n",
       "      <td>No</td>\n",
       "      <td>No</td>\n",
       "      <td>No</td>\n",
       "      <td>No</td>\n",
       "      <td>Fiber optic</td>\n",
       "      <td>No</td>\n",
       "      <td>No</td>\n",
       "      <td>No</td>\n",
       "      <td>No</td>\n",
       "      <td>No</td>\n",
       "      <td>No</td>\n",
       "      <td>Month-to-month</td>\n",
       "      <td>Yes</td>\n",
       "      <td>Electronic check</td>\n",
       "      <td>70.70</td>\n",
       "      <td>151.65</td>\n",
       "      <td>61</td>\n",
       "      <td>True</td>\n",
       "    </tr>\n",
       "    <tr>\n",
       "      <th>5</th>\n",
       "      <td>Female</td>\n",
       "      <td>No</td>\n",
       "      <td>No</td>\n",
       "      <td>No</td>\n",
       "      <td>Yes</td>\n",
       "      <td>Fiber optic</td>\n",
       "      <td>No</td>\n",
       "      <td>No</td>\n",
       "      <td>Yes</td>\n",
       "      <td>No</td>\n",
       "      <td>Yes</td>\n",
       "      <td>Yes</td>\n",
       "      <td>Month-to-month</td>\n",
       "      <td>Yes</td>\n",
       "      <td>Electronic check</td>\n",
       "      <td>99.65</td>\n",
       "      <td>820.50</td>\n",
       "      <td>245</td>\n",
       "      <td>True</td>\n",
       "    </tr>\n",
       "    <tr>\n",
       "      <th>6</th>\n",
       "      <td>Male</td>\n",
       "      <td>No</td>\n",
       "      <td>No</td>\n",
       "      <td>Yes</td>\n",
       "      <td>Yes</td>\n",
       "      <td>Fiber optic</td>\n",
       "      <td>No</td>\n",
       "      <td>Yes</td>\n",
       "      <td>No</td>\n",
       "      <td>No</td>\n",
       "      <td>Yes</td>\n",
       "      <td>No</td>\n",
       "      <td>Month-to-month</td>\n",
       "      <td>Yes</td>\n",
       "      <td>Credit card (automatic)</td>\n",
       "      <td>89.10</td>\n",
       "      <td>1949.40</td>\n",
       "      <td>671</td>\n",
       "      <td>False</td>\n",
       "    </tr>\n",
       "    <tr>\n",
       "      <th>7</th>\n",
       "      <td>Female</td>\n",
       "      <td>No</td>\n",
       "      <td>No</td>\n",
       "      <td>No</td>\n",
       "      <td>No</td>\n",
       "      <td>DSL</td>\n",
       "      <td>Yes</td>\n",
       "      <td>No</td>\n",
       "      <td>No</td>\n",
       "      <td>No</td>\n",
       "      <td>No</td>\n",
       "      <td>No</td>\n",
       "      <td>Month-to-month</td>\n",
       "      <td>No</td>\n",
       "      <td>Mailed check</td>\n",
       "      <td>29.75</td>\n",
       "      <td>301.90</td>\n",
       "      <td>306</td>\n",
       "      <td>False</td>\n",
       "    </tr>\n",
       "    <tr>\n",
       "      <th>8</th>\n",
       "      <td>Female</td>\n",
       "      <td>No</td>\n",
       "      <td>Yes</td>\n",
       "      <td>No</td>\n",
       "      <td>Yes</td>\n",
       "      <td>Fiber optic</td>\n",
       "      <td>No</td>\n",
       "      <td>No</td>\n",
       "      <td>Yes</td>\n",
       "      <td>Yes</td>\n",
       "      <td>Yes</td>\n",
       "      <td>Yes</td>\n",
       "      <td>Month-to-month</td>\n",
       "      <td>Yes</td>\n",
       "      <td>Electronic check</td>\n",
       "      <td>104.80</td>\n",
       "      <td>3046.05</td>\n",
       "      <td>853</td>\n",
       "      <td>True</td>\n",
       "    </tr>\n",
       "    <tr>\n",
       "      <th>9</th>\n",
       "      <td>Male</td>\n",
       "      <td>No</td>\n",
       "      <td>No</td>\n",
       "      <td>Yes</td>\n",
       "      <td>No</td>\n",
       "      <td>DSL</td>\n",
       "      <td>Yes</td>\n",
       "      <td>Yes</td>\n",
       "      <td>No</td>\n",
       "      <td>No</td>\n",
       "      <td>No</td>\n",
       "      <td>No</td>\n",
       "      <td>One year</td>\n",
       "      <td>No</td>\n",
       "      <td>Bank transfer (automatic)</td>\n",
       "      <td>56.15</td>\n",
       "      <td>3487.95</td>\n",
       "      <td>1888</td>\n",
       "      <td>False</td>\n",
       "    </tr>\n",
       "  </tbody>\n",
       "</table>\n",
       "</div>"
      ],
      "text/plain": [
       "   gender SeniorCitizen Partner Dependents MultipleLines InternetService  \\\n",
       "0  Female            No     Yes         No            No             DSL   \n",
       "1    Male            No      No         No            No             DSL   \n",
       "2    Male            No      No         No            No             DSL   \n",
       "3    Male            No      No         No            No             DSL   \n",
       "4  Female            No      No         No            No     Fiber optic   \n",
       "5  Female            No      No         No           Yes     Fiber optic   \n",
       "6    Male            No      No        Yes           Yes     Fiber optic   \n",
       "7  Female            No      No         No            No             DSL   \n",
       "8  Female            No     Yes         No           Yes     Fiber optic   \n",
       "9    Male            No      No        Yes            No             DSL   \n",
       "\n",
       "  OnlineSecurity OnlineBackup DeviceProtection TechSupport StreamingTV  \\\n",
       "0             No          Yes               No          No          No   \n",
       "1            Yes           No              Yes          No          No   \n",
       "2            Yes          Yes               No          No          No   \n",
       "3            Yes           No              Yes         Yes          No   \n",
       "4             No           No               No          No          No   \n",
       "5             No           No              Yes          No         Yes   \n",
       "6             No          Yes               No          No         Yes   \n",
       "7            Yes           No               No          No          No   \n",
       "8             No           No              Yes         Yes         Yes   \n",
       "9            Yes          Yes               No          No          No   \n",
       "\n",
       "  StreamingMovies            Type PaperlessBilling              PaymentMethod  \\\n",
       "0              No  Month-to-month              Yes           Electronic check   \n",
       "1              No        One year               No               Mailed check   \n",
       "2              No  Month-to-month              Yes               Mailed check   \n",
       "3              No        One year               No  Bank transfer (automatic)   \n",
       "4              No  Month-to-month              Yes           Electronic check   \n",
       "5             Yes  Month-to-month              Yes           Electronic check   \n",
       "6              No  Month-to-month              Yes    Credit card (automatic)   \n",
       "7              No  Month-to-month               No               Mailed check   \n",
       "8             Yes  Month-to-month              Yes           Electronic check   \n",
       "9              No        One year               No  Bank transfer (automatic)   \n",
       "\n",
       "   MonthlyCharges  TotalCharges  duration  broken  \n",
       "0           29.85         29.85        31   False  \n",
       "1           56.95       1889.50      1036   False  \n",
       "2           53.85        108.15        61    True  \n",
       "3           42.30       1840.75      1371   False  \n",
       "4           70.70        151.65        61    True  \n",
       "5           99.65        820.50       245    True  \n",
       "6           89.10       1949.40       671   False  \n",
       "7           29.75        301.90       306   False  \n",
       "8          104.80       3046.05       853    True  \n",
       "9           56.15       3487.95      1888   False  "
      ]
     },
     "execution_count": 90,
     "metadata": {},
     "output_type": "execute_result"
    }
   ],
   "source": [
    "df.head(10)"
   ]
  },
  {
   "cell_type": "markdown",
   "metadata": {},
   "source": [
    "Lets build correlation matrix with PhiK."
   ]
  },
  {
   "cell_type": "code",
   "execution_count": 91,
   "metadata": {},
   "outputs": [
    {
     "name": "stdout",
     "output_type": "stream",
     "text": [
      "interval columns not set, guessing: ['MonthlyCharges', 'TotalCharges', 'duration']\n"
     ]
    },
    {
     "data": {
      "image/png": "[encoded data removed]",
      "text/plain": [
       "<Figure size 1008x864 with 2 Axes>"
      ]
     },
     "metadata": {
      "needs_background": "light"
     },
     "output_type": "display_data"
    }
   ],
   "source": [
    "corrMatrix = df.phik_matrix()\n",
    "\n",
    "plot_correlation_matrix(corrMatrix.values,\n",
    "                        x_labels=corrMatrix.columns,\n",
    "                        y_labels=corrMatrix.index,\n",
    "                        vmin=0, vmax=1, color_map=\"Greens\",\n",
    "                        title=r\"PhiK\",\n",
    "                        fontsize_factor=1.2,\n",
    "                        figsize=(14, 12))\n",
    "plt.tight_layout()"
   ]
  },
  {
   "cell_type": "markdown",
   "metadata": {},
   "source": [
    "Let's highlight a few parameters that can be excluded.\n",
    "<ul>\n",
    "    <li>gender - zero correlation with all other parameters, including the target</li>\n",
    "    <li>TotalCharges - strong correlation with MonthCharges and duration</li>\n",
    "    <li>StreamingMovies - seems like multicollinearity with StreamingTV</li>\n",
    "    <li>OnlineBackup - seems like multicollinearity with DeviceProtection</li>\n",
    "</ul>\n",
    "The similar \"behavior\" of the traits (the same correlation with other parameters) can be interpreted as their multicollinearity and a chance to lower the dimensionality of the incoming data."
   ]
  },
  {
   "cell_type": "code",
   "execution_count": 92,
   "metadata": {},
   "outputs": [],
   "source": [
    "df.drop(inplace=True, columns=['TotalCharges', 'StreamingMovies', 'OnlineBackup', 'gender'], axis=1)"
   ]
  },
  {
   "cell_type": "markdown",
   "metadata": {},
   "source": [
    "### Extract features and target"
   ]
  },
  {
   "cell_type": "code",
   "execution_count": 93,
   "metadata": {},
   "outputs": [
    {
     "name": "stdout",
     "output_type": "stream",
     "text": [
      "<class 'pandas.core.frame.DataFrame'>\n",
      "Int64Index: 7043 entries, 0 to 7042\n",
      "Data columns (total 14 columns):\n",
      " #   Column            Non-Null Count  Dtype  \n",
      "---  ------            --------------  -----  \n",
      " 0   SeniorCitizen     7043 non-null   object \n",
      " 1   Partner           7043 non-null   object \n",
      " 2   Dependents        7043 non-null   object \n",
      " 3   MultipleLines     7043 non-null   object \n",
      " 4   InternetService   7043 non-null   object \n",
      " 5   OnlineSecurity    7043 non-null   object \n",
      " 6   DeviceProtection  7043 non-null   object \n",
      " 7   TechSupport       7043 non-null   object \n",
      " 8   StreamingTV       7043 non-null   object \n",
      " 9   Type              7043 non-null   object \n",
      " 10  PaperlessBilling  7043 non-null   object \n",
      " 11  PaymentMethod     7043 non-null   object \n",
      " 12  MonthlyCharges    7043 non-null   float64\n",
      " 13  duration          7043 non-null   int64  \n",
      "dtypes: float64(1), int64(1), object(12)\n",
      "memory usage: 1.1+ MB\n"
     ]
    }
   ],
   "source": [
    "features = df.drop('broken', axis=1)\n",
    "target = df['broken']\n",
    "features.info()"
   ]
  },
  {
   "cell_type": "markdown",
   "metadata": {},
   "source": [
    "Let's divide the sample into training and test samples, and apply CatBoostEncoder and StandardScaler to training set. We will encode all columns except MonthlyCharges and duration (they should be scaled). "
   ]
  },
  {
   "cell_type": "code",
   "execution_count": 94,
   "metadata": {},
   "outputs": [],
   "source": [
    "num_cols = ['MonthlyCharges', 'duration']\n",
    "cat_cols = [x for x in features.columns if x not in num_cols]"
   ]
  },
  {
   "cell_type": "code",
   "execution_count": 95,
   "metadata": {},
   "outputs": [],
   "source": [
    "train_features, test_features, train_target, test_target = train_test_split(features, target, test_size=TEST_SIZE, random_state=RANDOM_STATE, stratify=target)\n",
    "cbe_encoder = ce.cat_boost.CatBoostEncoder()\n",
    "cbe_encoder.fit(train_features[cat_cols], train_target)\n",
    "train_features[cat_cols] = cbe_encoder.transform(train_features[cat_cols])\n",
    "scaler = StandardScaler()\n",
    "scaler.fit(train_features[num_cols])\n",
    "train_features[num_cols] = scaler.transform(train_features[num_cols])"
   ]
  },
  {
   "cell_type": "markdown",
   "metadata": {},
   "source": [
    "### Decision Tree Classifier"
   ]
  },
  {
   "cell_type": "code",
   "execution_count": 96,
   "metadata": {},
   "outputs": [
    {
     "name": "stdout",
     "output_type": "stream",
     "text": [
      "{'max_depth': 6, 'max_features': 14}\n",
      "AUC-ROC 0.8526278734427329\n"
     ]
    }
   ],
   "source": [
    "models = pd.DataFrame(index=['DecisionTree', 'LogisticRegression','CatBoost'],\n",
    "                      columns=['params','AUC-ROC'])\n",
    "tree = DecisionTreeClassifier()\n",
    "tree_params = [{'max_depth': list(range(2, 20)),\n",
    "                'max_features': list(range(1, 15))\n",
    "                }]\n",
    "clf = GridSearchCV(tree, tree_params, cv=CV, scoring='roc_auc')\n",
    "clf.fit(train_features, train_target)\n",
    "models.loc['DecisionTree', 'params'] = json.dumps(clf.best_params_)\n",
    "models.loc['DecisionTree', 'AUC-ROC'] = clf.best_score_"
   ]
  },
  {
   "cell_type": "markdown",
   "metadata": {},
   "source": [
    "### Logistic Regression"
   ]
  },
  {
   "cell_type": "code",
   "execution_count": 97,
   "metadata": {},
   "outputs": [
    {
     "name": "stdout",
     "output_type": "stream",
     "text": [
      "{'class_weight': 'balanced', 'max_iter': 100}\n",
      "AUC-ROC 0.8401378282905047\n"
     ]
    }
   ],
   "source": [
    "log_reg = LogisticRegression()\n",
    "log_reg_params = [{\n",
    "    'max_iter': [100, 500, 1000],\n",
    "    'class_weight': [None, 'balanced'],\n",
    "}]\n",
    "clf = GridSearchCV(log_reg, log_reg_params, cv=CV, scoring='roc_auc')\n",
    "clf.fit(train_features, train_target)\n",
    "models.loc['LogisticRegression', 'params'] = json.dumps(clf.best_params_)\n",
    "models.loc['LogisticRegression', 'AUC-ROC'] = clf.best_score_"
   ]
  },
  {
   "cell_type": "markdown",
   "metadata": {},
   "source": [
    "### CatBoost"
   ]
  },
  {
   "cell_type": "code",
   "execution_count": 115,
   "metadata": {
    "scrolled": false
   },
   "outputs": [
    {
     "name": "stdout",
     "output_type": "stream",
     "text": [
      "0:\tloss: 0.8627620\tbest: 0.8627620 (0)\ttotal: 176ms\tremaining: 8.99s\n",
      "1:\tloss: 0.8921238\tbest: 0.8921238 (1)\ttotal: 315ms\tremaining: 7.87s\n",
      "2:\tloss: 0.9073965\tbest: 0.9073965 (2)\ttotal: 473ms\tremaining: 7.72s\n",
      "3:\tloss: 0.9102362\tbest: 0.9102362 (3)\ttotal: 632ms\tremaining: 7.58s\n",
      "4:\tloss: 0.8645741\tbest: 0.9102362 (3)\ttotal: 826ms\tremaining: 7.76s\n",
      "5:\tloss: 0.8984808\tbest: 0.9102362 (3)\ttotal: 978ms\tremaining: 7.5s\n",
      "6:\tloss: 0.9062731\tbest: 0.9102362 (3)\ttotal: 1.14s\tremaining: 7.3s\n",
      "7:\tloss: 0.9043652\tbest: 0.9102362 (3)\ttotal: 1.32s\tremaining: 7.24s\n",
      "8:\tloss: 0.8695112\tbest: 0.9102362 (3)\ttotal: 1.59s\tremaining: 7.58s\n",
      "9:\tloss: 0.8988352\tbest: 0.9102362 (3)\ttotal: 1.87s\tremaining: 7.86s\n",
      "10:\tloss: 0.9019668\tbest: 0.9102362 (3)\ttotal: 2.24s\tremaining: 8.36s\n",
      "11:\tloss: 0.9058117\tbest: 0.9102362 (3)\ttotal: 2.6s\tremaining: 8.68s\n",
      "12:\tloss: 0.8686107\tbest: 0.9102362 (3)\ttotal: 3s\tremaining: 9.01s\n",
      "13:\tloss: 0.8956054\tbest: 0.9102362 (3)\ttotal: 3.39s\tremaining: 9.2s\n",
      "14:\tloss: 0.8915710\tbest: 0.9102362 (3)\ttotal: 3.77s\tremaining: 9.31s\n",
      "15:\tloss: 0.8874921\tbest: 0.9102362 (3)\ttotal: 4.17s\tremaining: 9.39s\n",
      "16:\tloss: 0.8630295\tbest: 0.9102362 (3)\ttotal: 4.61s\tremaining: 9.49s\n",
      "17:\tloss: 0.8978611\tbest: 0.9102362 (3)\ttotal: 4.88s\tremaining: 9.22s\n",
      "18:\tloss: 0.8861659\tbest: 0.9102362 (3)\ttotal: 5.08s\tremaining: 8.83s\n",
      "19:\tloss: 0.8800853\tbest: 0.9102362 (3)\ttotal: 5.29s\tremaining: 8.47s\n",
      "20:\tloss: 0.8754112\tbest: 0.9102362 (3)\ttotal: 5.57s\tremaining: 8.23s\n",
      "21:\tloss: 0.8880047\tbest: 0.9102362 (3)\ttotal: 5.83s\tremaining: 7.95s\n",
      "22:\tloss: 0.8666359\tbest: 0.9102362 (3)\ttotal: 6.09s\tremaining: 7.67s\n",
      "23:\tloss: 0.8754402\tbest: 0.9102362 (3)\ttotal: 6.33s\tremaining: 7.38s\n",
      "24:\tloss: 0.8600962\tbest: 0.9102362 (3)\ttotal: 6.66s\tremaining: 7.19s\n",
      "25:\tloss: 0.8750078\tbest: 0.9102362 (3)\ttotal: 7s\tremaining: 7s\n",
      "26:\tloss: 0.8587611\tbest: 0.9102362 (3)\ttotal: 7.32s\tremaining: 6.78s\n",
      "27:\tloss: 0.8480087\tbest: 0.9102362 (3)\ttotal: 7.65s\tremaining: 6.56s\n",
      "28:\tloss: 0.8587365\tbest: 0.9102362 (3)\ttotal: 8.15s\tremaining: 6.46s\n",
      "29:\tloss: 0.8704496\tbest: 0.9102362 (3)\ttotal: 8.7s\tremaining: 6.38s\n",
      "30:\tloss: 0.8527719\tbest: 0.9102362 (3)\ttotal: 9.21s\tremaining: 6.24s\n",
      "31:\tloss: 0.8494040\tbest: 0.9102362 (3)\ttotal: 9.74s\tremaining: 6.09s\n",
      "32:\tloss: 0.8570247\tbest: 0.9102362 (3)\ttotal: 10.4s\tremaining: 5.99s\n",
      "33:\tloss: 0.8687467\tbest: 0.9102362 (3)\ttotal: 11.2s\tremaining: 5.91s\n",
      "34:\tloss: 0.8525557\tbest: 0.9102362 (3)\ttotal: 11.9s\tremaining: 5.78s\n",
      "35:\tloss: 0.8328497\tbest: 0.9102362 (3)\ttotal: 12.7s\tremaining: 5.63s\n",
      "36:\tloss: 0.8532155\tbest: 0.9102362 (3)\ttotal: 13.7s\tremaining: 5.57s\n",
      "37:\tloss: 0.8544904\tbest: 0.9102362 (3)\ttotal: 15.2s\tremaining: 5.59s\n",
      "38:\tloss: 0.8516552\tbest: 0.9102362 (3)\ttotal: 16.6s\tremaining: 5.52s\n",
      "39:\tloss: 0.8425656\tbest: 0.9102362 (3)\ttotal: 17.9s\tremaining: 5.37s\n",
      "40:\tloss: 0.8509954\tbest: 0.9102362 (3)\ttotal: 19.7s\tremaining: 5.28s\n",
      "41:\tloss: 0.8539421\tbest: 0.9102362 (3)\ttotal: 22s\tremaining: 5.25s\n",
      "42:\tloss: 0.8516552\tbest: 0.9102362 (3)\ttotal: 24.4s\tremaining: 5.1s\n",
      "43:\tloss: 0.8328095\tbest: 0.9102362 (3)\ttotal: 26.9s\tremaining: 4.88s\n",
      "44:\tloss: 0.8472419\tbest: 0.9102362 (3)\ttotal: 30.6s\tremaining: 4.76s\n",
      "45:\tloss: 0.8467738\tbest: 0.9102362 (3)\ttotal: 35.2s\tremaining: 4.59s\n",
      "46:\tloss: 0.8516552\tbest: 0.9102362 (3)\ttotal: 40.1s\tremaining: 4.27s\n",
      "47:\tloss: 0.8334671\tbest: 0.9102362 (3)\ttotal: 45.1s\tremaining: 3.76s\n",
      "48:\tloss: 0.8472419\tbest: 0.9102362 (3)\ttotal: 54.2s\tremaining: 3.32s\n",
      "49:\tloss: 0.8495489\tbest: 0.9102362 (3)\ttotal: 1m 6s\tremaining: 2.66s\n",
      "50:\tloss: 0.8516552\tbest: 0.9102362 (3)\ttotal: 1m 18s\tremaining: 1.54s\n",
      "51:\tloss: 0.8349493\tbest: 0.9102362 (3)\ttotal: 1m 32s\tremaining: 0us\n",
      "Estimating final quality...\n"
     ]
    }
   ],
   "source": [
    "train_dataset = Pool(train_features, train_target) #, cat_features=categorical_indicies)\n",
    "cbc = CatBoostClassifier(loss_function='Logloss',\n",
    "                         eval_metric='AUC:hints=skip_train~false',\n",
    "                         logging_level='Silent',\n",
    "                        )\n",
    "cbc_params = {'depth': list(range(2, 15)),\n",
    "              'learning_rate': list(np.arange(0.1, 1.1, 0.3)),\n",
    "              'iterations': [100,]\n",
    "}\n",
    "grid_search_result = cbc.grid_search(cbc_params, train_dataset, cv=CV)\n",
    "models.loc['CatBoost','params'] = json.dumps(grid_search_result['params'])\n",
    "models.loc['CatBoost','AUC-ROC'] = max(grid_search_result['cv_results']['test-AUC-mean'])"
   ]
  },
  {
   "cell_type": "markdown",
   "metadata": {},
   "source": [
    "Display pivot table with AUC-ROC and optimal params for each model."
   ]
  },
  {
   "cell_type": "code",
   "execution_count": 116,
   "metadata": {},
   "outputs": [
    {
     "data": {
      "text/html": [
       "<div>\n",
       "<style scoped>\n",
       "    .dataframe tbody tr th:only-of-type {\n",
       "        vertical-align: middle;\n",
       "    }\n",
       "\n",
       "    .dataframe tbody tr th {\n",
       "        vertical-align: top;\n",
       "    }\n",
       "\n",
       "    .dataframe thead th {\n",
       "        text-align: right;\n",
       "    }\n",
       "</style>\n",
       "<table border=\"1\" class=\"dataframe\">\n",
       "  <thead>\n",
       "    <tr style=\"text-align: right;\">\n",
       "      <th></th>\n",
       "      <th>params</th>\n",
       "      <th>AUC-ROC</th>\n",
       "    </tr>\n",
       "  </thead>\n",
       "  <tbody>\n",
       "    <tr>\n",
       "      <th>CatBoost</th>\n",
       "      <td>{\"depth\": 2, \"iterations\": 100, \"learning_rate\": 1.0000000000000002}</td>\n",
       "      <td>0.915257</td>\n",
       "    </tr>\n",
       "    <tr>\n",
       "      <th>DecisionTree</th>\n",
       "      <td>{\"max_depth\": 6, \"max_features\": 14}</td>\n",
       "      <td>0.852628</td>\n",
       "    </tr>\n",
       "    <tr>\n",
       "      <th>LogisticRegression</th>\n",
       "      <td>{\"class_weight\": \"balanced\", \"max_iter\": 100}</td>\n",
       "      <td>0.840138</td>\n",
       "    </tr>\n",
       "  </tbody>\n",
       "</table>\n",
       "</div>"
      ],
      "text/plain": [
       "                                                                                  params  \\\n",
       "CatBoost            {\"depth\": 2, \"iterations\": 100, \"learning_rate\": 1.0000000000000002}   \n",
       "DecisionTree                                        {\"max_depth\": 6, \"max_features\": 14}   \n",
       "LogisticRegression                         {\"class_weight\": \"balanced\", \"max_iter\": 100}   \n",
       "\n",
       "                     AUC-ROC  \n",
       "CatBoost            0.915257  \n",
       "DecisionTree        0.852628  \n",
       "LogisticRegression  0.840138  "
      ]
     },
     "metadata": {},
     "output_type": "display_data"
    }
   ],
   "source": [
    "pd.set_option('display.max_colwidth', None)\n",
    "display(models.sort_values('AUC-ROC', ascending=False))"
   ]
  },
  {
   "cell_type": "markdown",
   "metadata": {},
   "source": [
    "### Run best model on test data"
   ]
  },
  {
   "cell_type": "markdown",
   "metadata": {},
   "source": [
    "Best result was reached with CatBoostClassifier. Lets encode and and scale whole training dataset and compute AUC-ROC и accuracy."
   ]
  },
  {
   "cell_type": "code",
   "execution_count": 106,
   "metadata": {},
   "outputs": [],
   "source": [
    "test_features[cat_cols] = cbe_encoder.transform(test_features[cat_cols])\n",
    "test_features[num_cols] = scaler.transform(test_features[num_cols])\n",
    "test_dataset = Pool(test_features, test_target) #, cat_features=categorical_indicies)\n",
    "best_model = CatBoostClassifier(loss_function='Logloss',\n",
    "                                logging_level='Silent',\n",
    "                                depth=2,\n",
    "                                iterations=100,\n",
    "                                learning_rate=1)\n",
    "best_model.fit(train_dataset)\n",
    "predict = best_model.predict_proba(test_dataset)"
   ]
  },
  {
   "cell_type": "code",
   "execution_count": 107,
   "metadata": {},
   "outputs": [
    {
     "name": "stdout",
     "output_type": "stream",
     "text": [
      "ROC AUC: 0.90 | ACCURACY: 0.84\n"
     ]
    }
   ],
   "source": [
    "print(\"ROC AUC: {:.2f} | ACCURACY: {:.2f}\".format(\n",
    "    roc_auc_score(test_target, predict[:, 1]),\n",
    "    accuracy_score(test_target, predict[:, 1]>=0.5))\n",
    ")"
   ]
  },
  {
   "cell_type": "markdown",
   "metadata": {},
   "source": [
    "Now we should compare our model to dummy one. Lets compute AUC-ROC and accuracy for dummy model, that always predicts 0 (means that client will stay with company)."
   ]
  },
  {
   "cell_type": "code",
   "execution_count": 108,
   "metadata": {},
   "outputs": [
    {
     "name": "stdout",
     "output_type": "stream",
     "text": [
      "DUMMY ROC AUC: 0.50 | ACCURACY: 0.73\n"
     ]
    }
   ],
   "source": [
    "dummy_predict = np.zeros(test_target.shape[0])\n",
    "print(\"DUMMY ROC AUC: {:.2f} | ACCURACY: {:.2f}\".format(\n",
    "    roc_auc_score(test_target, dummy_predict),\n",
    "    accuracy_score(test_target, dummy_predict)\n",
    "))"
   ]
  },
  {
   "cell_type": "markdown",
   "metadata": {},
   "source": [
    "Lets compare confusion matrix for CatboostClassifier model and dummy one."
   ]
  },
  {
   "cell_type": "code",
   "execution_count": 109,
   "metadata": {},
   "outputs": [
    {
     "data": {
      "image/png": "[encoded data removed]",
      "text/plain": [
       "<Figure size 432x288 with 2 Axes>"
      ]
     },
     "metadata": {
      "needs_background": "light"
     },
     "output_type": "display_data"
    },
    {
     "data": {
      "image/png": "[encoded data removed]",
      "text/plain": [
       "<Figure size 432x288 with 2 Axes>"
      ]
     },
     "metadata": {
      "needs_background": "light"
     },
     "output_type": "display_data"
    }
   ],
   "source": [
    "cfm1 = confusion_matrix(test_target, predict[:, 1]>=0.5)\n",
    "cfm2 = confusion_matrix(test_target, dummy_predict)\n",
    "\n",
    "ax = sb.heatmap(cfm1, annot=True, fmt='g', cmap='Greens')\n",
    "ax.set_title('Catboost модель')\n",
    "ax.set_xlabel('\\nПредсказания')\n",
    "ax.set_ylabel('Истинные значения ')\n",
    "plt.show()\n",
    "\n",
    "bx = sb.heatmap(cfm2, annot=True, fmt='g', cmap='Greens')\n",
    "bx.set_title('Dummy модель')\n",
    "bx.set_xlabel('\\nПредсказания')\n",
    "bx.set_ylabel('Истинные значения ')\n",
    "plt.show()"
   ]
  },
  {
   "cell_type": "markdown",
   "metadata": {},
   "source": [
    "Thus, the model began to recognize clients who are really leaving at the cost of misidentifying clients who are not going to leave. The model gives the probability that the customer in question will leave, but additionally a parameter for the exit probability threshold can be introduced.<br>\n",
    "Dummy model believes that the chance of the client to leave is 0%, that is, if the model is wrong - there is no way to offer the client better terms and keep it (True Negative counter). <br>\n",
    "Assuming that any customer can leave, businesses run the risk of mass discounts to spend money to retain customers who are not going to leave (False Positive counter).<br>\n",
    "The balance between these two classes in the model can be established either by maximizing formal metrics or by establishing the \"utility\" of retained clients over those who left. Maximizing accuracy, we get the maximum \"correct\" answer of the model, that is, the set FP + TN clients will be minimal (If they are few, you can offer discounts and specials not automatically, but in manual mode)"
   ]
  },
  {
   "cell_type": "code",
   "execution_count": 110,
   "metadata": {},
   "outputs": [
    {
     "name": "stdout",
     "output_type": "stream",
     "text": [
      "0.30 0.8245\n",
      "0.35 0.8427\n",
      "0.40 0.8416\n",
      "0.45 0.8438\n",
      "0.50 0.8393\n",
      "0.55 0.8393\n",
      "0.60 0.8370\n",
      "0.65 0.8342\n",
      "0.70 0.8313\n",
      "0.75 0.8223\n",
      "0.80 0.8126\n",
      "0.85 0.8007\n",
      "0.90 0.7922\n"
     ]
    }
   ],
   "source": [
    "for th in np.arange(0.3, 0.95, 0.05):\n",
    "    print(\"{:.2f} {:.4f}\".format(th, accuracy_score(test_target, predict[:, 1]>=th)))"
   ]
  },
  {
   "cell_type": "markdown",
   "metadata": {},
   "source": [
    "Thus, the highest prediction accuracy is achieved at a probability threshold of 45%."
   ]
  },
  {
   "cell_type": "markdown",
   "metadata": {},
   "source": [
    "With CatBoostClassifier we reached auc_roc=0.9 and accuracy=0.84. Finally, lets analyze feature importance."
   ]
  },
  {
   "cell_type": "code",
   "execution_count": 111,
   "metadata": {},
   "outputs": [],
   "source": [
    "param_importance = pd.DataFrame({'weight':best_model.get_feature_importance()},\n",
    "                                index=test_features.columns)"
   ]
  },
  {
   "cell_type": "code",
   "execution_count": 49,
   "metadata": {},
   "outputs": [
    {
     "data": {},
     "execution_count": 49,
     "metadata": {},
     "output_type": "execute_result"
    },
    {
     "data": {
      "image/png": "[encoded data removed]"
     },
     "metadata": {
      "needs_background": "light"
     },
     "output_type": "display_data"
    }
   ],
   "source": [
    "param_importance.sort_values('weight', ascending=True)\\\n",
    "                .plot(kind='barh')"
   ]
  },
  {
   "cell_type": "markdown",
   "metadata": {},
   "source": [
    "That is, the leading facts were the number of days from the beginning to the end of the contract (or current day), the type of contract, the type of Internet connection and the tariff (monthly payment). Several other factors, such as the possibility of cashless payment, method of payment and some kind of security services, influenced the attitude of users with less weight. Probably, OnlineSecurity was default option, so it become \"overweight\"."
   ]
  },
  {
   "cell_type": "markdown",
   "metadata": {},
   "source": [
    "## Report"
   ]
  },
  {
   "cell_type": "markdown",
   "metadata": {},
   "source": [
    "### Problem description"
   ]
  },
  {
   "cell_type": "markdown",
   "metadata": {},
   "source": [
    "Telecom operator provides Internet and landline telephone services. Since October 2019 there has been a customer churn, and it takes a week to build a machine learning model that predicts whether a customer will leave or not."
   ]
  },
  {
   "cell_type": "markdown",
   "metadata": {},
   "source": [
    "### Input data"
   ]
  },
  {
   "cell_type": "markdown",
   "metadata": {},
   "source": [
    "The inputs are current and retired customers from October 2013 through February 2020. There is no payment data for new customers contracted in February 2020.\n",
    "The dataset includes a total of 7,403 customers, of which 1,869 terminated their contract between October 2019 and February 2020.\n",
    "Dataset is represented by 4 tables that store data about:\n",
    "<ul>\n",
    "    <li>phone users,</li>\n",
    "    <li>internet users,</li>\n",
    "    <li>personal data, </li>\n",
    "    <li>concluded contracts and payment information</li>\n",
    "</ul>\n",
    "These tables are linked through unique user IDs and all data are interpreted unambiguously."
   ]
  },
  {
   "cell_type": "markdown",
   "metadata": {},
   "source": [
    "### Preprocessing"
   ]
  },
  {
   "cell_type": "markdown",
   "metadata": {},
   "source": [
    "The input data omits payment statistics for new users. Since at the beginning of February 2020 they haven't had time to make any payments yet, it is assumed that the payment statistics are 0.<br>\n",
    "If the user has not used services and there is no information about him in the corresponding table, the service column is written with the value \"No\".<br>\n",
    "The target attribute is a date of rupture of a contract; synthetic target attribute broken (1 if there's a date of rupture, otherwise 0) was introduced for convenience and interpretation of data.<br>\n",
    "We also introduced a synthetic indicator duration, which is equal to the number of days between the conclusion and termination of the contract. If the client has not terminated the contract, duration is the number of days from contract conclusion to February 1, 2020."
   ]
  },
  {
   "cell_type": "markdown",
   "metadata": {},
   "source": [
    "### Client portrait"
   ]
  },
  {
   "cell_type": "markdown",
   "metadata": {},
   "source": [
    "Internet and landline telephone services with additional services are investigated.\n",
    "<ul>\n",
    "<li>Most users (1,586 out of 1,869 who left) used both the Internet and telephone, but the proportion of Internet users among those who left (93.9%) was higher than the overall proportion of Internet users (78.3%).<br>\n",
    "<img height=\"500\" src=\"https://i.ibb.co/j66F61x/rate-internet.png\"/><br>\n",
    "<img height=\"500\" src=\"https://i.ibb.co/5cHQw2v/rate-left-internet.png\"/>\n",
    "</li>\n",
    "<li>Approximately one in three elderly clients who leave</li>\n",
    "<li>Among the additional services used by departing customers, the most popular were streaming TV and movies<br>\n",
    "<img height=\"500\" src=\"https://i.ibb.co/QNMrRW0/internet-services-left.png\"/>\n",
    "</li>\n",
    "<li>Average and median monthly payments are 10 higher among outgoing customers relative to all users</li>\n",
    "<li>Clients of all price categories leave, but more - in the 70-100 segment<br>\n",
    "<img height=\"500\" src=\"https://i.ibb.co/yn15Jgz/rate-month-payments-left.png\"/>\n",
    "</li>\n",
    "</ul>"
   ]
  },
  {
   "cell_type": "markdown",
   "metadata": {},
   "source": [
    "### Building and choosing a model"
   ]
  },
  {
   "cell_type": "markdown",
   "metadata": {},
   "source": [
    "From the input data set were excluded:\n",
    "<ul>\n",
    "<li>User IDs</li>\n",
    "<li>Total payments per user</li>\n",
    "<li>Dates of conclusion and termination of the contract</li>\n",
    "<li>User gender</li>\n",
    "<li>Information about additional Internet services - Online Backup and Movie Streaming</li>\n",
    "</ul>\n",
    "On the remaining data, the following models were trained and the following AUC target metrics were achieved:\n",
    "<table>\n",
    "<tr>\n",
    "     <td>Model</td>\n",
    "     <td>Decision tree</td>\n",
    "     <td>Logistic regression</td>\n",
    "     <td>CatBoost classifier</td>\n",
    "</tr>\n",
    "<tr>\n",
    "     <td>AUC-ROC</td>\n",
    "     <td>0.85</td>\n",
    "     <td>0.84</td>\n",
    "     <td>0.91</td>\n",
    "</tr>\n",
    "</table>\n",
    "The CatBoost model showed the highest result of the target metric, identifying exiting customers with an accuracy of 84% and a target metric of AUC ROC 0.90 (1% worse than on the training set). The most important parameters were:\n",
    "<ul>\n",
    "<li>Contract duration</li>\n",
    "<li>Type of contract (long-term for 1-2 years or for a month)</li>\n",
    "<li>Internet connection type</li>\n",
    "<li>Monthly subscription fee</li>\n",
    "<li>Blocking insecure sites</li>\n",
    "<li>Possibility of cashless payments</li>\n",
    "<li>Available payment methods</li>\n",
    "</ul>\n",
    "<img height=\"500\" src=\"https://i.ibb.co/1mF0zM3/importance.png\"/>"
   ]
  },
  {
   "cell_type": "markdown",
   "metadata": {},
   "source": [
    "### Summary"
   ]
  },
  {
   "cell_type": "markdown",
   "metadata": {},
   "source": [
    "Portrait of leaving client was built and its differences from the remaining clients were investigated.\n",
    "A model has been built that predicts the client's departure and has a satisfactory target metric.<br>\n",
    "The resulting model can be further customized for business tasks by setting the level of risk of a client leaving. With a customer exit risk of 45%, the most accurate prediction is achieved whether the customer will stay or not. Based on the statistics of monthly payments of outgoing and all customers, we can conclude that users with a higher subscription fee leave more often. From a business point of view, one \"average\" exit customer pays $10 more, and with respect to the largest group of clients (the subscription fee is about 20 USD), one outgoing client costs as 4 remaining ones. Thus, it is more profitable to make mistakes and offer a discount to potential exiting customers more often than to lose paying ones. That is, it is permissible to lower the risk bar from 45\\% to 40\\%. A more accurate estimate can be made based on the size of discounts and costs associated with special offers."
   ]
  },
  {
   "cell_type": "code",
   "execution_count": null,
   "metadata": {},
   "outputs": [],
   "source": []
  }
 ],
 "metadata": {
  "ExecuteTimeLog": [
   {
    "duration": 49,
    "start_time": "2022-10-29T12:28:26.858Z"
   },
   {
    "duration": 410,
    "start_time": "2022-10-29T12:49:22.895Z"
   },
   {
    "duration": 312,
    "start_time": "2022-10-29T13:30:47.013Z"
   },
   {
    "duration": 3,
    "start_time": "2022-10-29T13:33:56.850Z"
   },
   {
    "duration": 191,
    "start_time": "2022-10-29T13:35:29.038Z"
   },
   {
    "duration": 2,
    "start_time": "2022-10-29T13:45:33.565Z"
   },
   {
    "duration": 26,
    "start_time": "2022-10-29T13:45:36.861Z"
   },
   {
    "duration": 18,
    "start_time": "2022-10-29T13:46:05.516Z"
   },
   {
    "duration": 9,
    "start_time": "2022-10-29T13:46:13.209Z"
   },
   {
    "duration": 3,
    "start_time": "2022-10-29T13:46:21.464Z"
   },
   {
    "duration": 22,
    "start_time": "2022-10-29T13:46:25.863Z"
   },
   {
    "duration": 4,
    "start_time": "2022-10-29T13:46:35.811Z"
   },
   {
    "duration": 3,
    "start_time": "2022-10-29T13:46:40.699Z"
   },
   {
    "duration": 4,
    "start_time": "2022-10-29T13:46:50.615Z"
   },
   {
    "duration": 11,
    "start_time": "2022-10-29T13:46:52.650Z"
   },
   {
    "duration": 3,
    "start_time": "2022-10-29T13:47:00.902Z"
   },
   {
    "duration": 14,
    "start_time": "2022-10-29T13:47:03.944Z"
   },
   {
    "duration": 3,
    "start_time": "2022-10-29T13:48:05.126Z"
   },
   {
    "duration": 21,
    "start_time": "2022-10-29T13:48:08.679Z"
   },
   {
    "duration": 21,
    "start_time": "2022-10-29T13:48:35.303Z"
   },
   {
    "duration": 31,
    "start_time": "2022-10-29T13:49:08.074Z"
   },
   {
    "duration": 16,
    "start_time": "2022-10-29T13:49:19.671Z"
   },
   {
    "duration": 13,
    "start_time": "2022-10-29T13:53:19.758Z"
   },
   {
    "duration": 65,
    "start_time": "2022-10-29T13:54:51.818Z"
   },
   {
    "duration": 9,
    "start_time": "2022-10-29T13:54:59.201Z"
   },
   {
    "duration": 12,
    "start_time": "2022-10-29T13:58:54.761Z"
   },
   {
    "duration": 9,
    "start_time": "2022-10-29T13:59:14.828Z"
   },
   {
    "duration": 11,
    "start_time": "2022-10-29T14:00:01.509Z"
   },
   {
    "duration": 11,
    "start_time": "2022-10-29T14:00:22.449Z"
   },
   {
    "duration": 10,
    "start_time": "2022-10-29T14:01:12.122Z"
   },
   {
    "duration": 10,
    "start_time": "2022-10-29T14:01:43.379Z"
   },
   {
    "duration": 10,
    "start_time": "2022-10-29T14:01:51.983Z"
   },
   {
    "duration": 17,
    "start_time": "2022-10-29T14:03:04.589Z"
   },
   {
    "duration": 8,
    "start_time": "2022-10-29T14:06:53.514Z"
   },
   {
    "duration": 11,
    "start_time": "2022-10-29T14:07:16.288Z"
   },
   {
    "duration": 9,
    "start_time": "2022-10-29T14:08:46.690Z"
   },
   {
    "duration": 9,
    "start_time": "2022-10-29T14:09:04.469Z"
   },
   {
    "duration": 328,
    "start_time": "2022-10-29T14:11:22.402Z"
   },
   {
    "duration": 21,
    "start_time": "2022-10-29T14:12:02.422Z"
   },
   {
    "duration": 16,
    "start_time": "2022-10-29T14:12:19.803Z"
   },
   {
    "duration": 12,
    "start_time": "2022-10-29T14:13:46.488Z"
   },
   {
    "duration": 16,
    "start_time": "2022-10-29T14:13:56.466Z"
   },
   {
    "duration": 16,
    "start_time": "2022-10-29T14:14:26.522Z"
   },
   {
    "duration": 24,
    "start_time": "2022-10-29T14:15:04.841Z"
   },
   {
    "duration": 24,
    "start_time": "2022-10-29T14:16:04.595Z"
   },
   {
    "duration": 22,
    "start_time": "2022-10-29T14:16:25.777Z"
   },
   {
    "duration": 19,
    "start_time": "2022-10-29T14:16:34.761Z"
   },
   {
    "duration": 24,
    "start_time": "2022-10-29T14:16:45.860Z"
   },
   {
    "duration": 280,
    "start_time": "2022-10-29T15:00:13.742Z"
   },
   {
    "duration": 15,
    "start_time": "2022-10-29T15:01:00.201Z"
   },
   {
    "duration": 54,
    "start_time": "2022-10-29T17:58:59.738Z"
   },
   {
    "duration": 378,
    "start_time": "2022-10-29T17:59:16.553Z"
   },
   {
    "duration": 421,
    "start_time": "2022-10-29T17:59:19.452Z"
   },
   {
    "duration": 3,
    "start_time": "2022-10-29T17:59:23.044Z"
   },
   {
    "duration": 26,
    "start_time": "2022-10-29T17:59:27.069Z"
   },
   {
    "duration": 21,
    "start_time": "2022-10-29T17:59:30.598Z"
   },
   {
    "duration": 20,
    "start_time": "2022-10-29T17:59:34.996Z"
   },
   {
    "duration": 29,
    "start_time": "2022-10-29T17:59:39.577Z"
   },
   {
    "duration": 4,
    "start_time": "2022-10-29T17:59:50.673Z"
   },
   {
    "duration": 6,
    "start_time": "2022-10-29T17:59:59.860Z"
   },
   {
    "duration": 44,
    "start_time": "2022-10-29T19:15:26.271Z"
   },
   {
    "duration": 29,
    "start_time": "2022-10-29T19:15:38.777Z"
   },
   {
    "duration": 8,
    "start_time": "2022-10-29T19:15:49.642Z"
   },
   {
    "duration": 11,
    "start_time": "2022-10-29T19:16:30.781Z"
   },
   {
    "duration": 11,
    "start_time": "2022-10-29T19:17:31.874Z"
   },
   {
    "duration": 706,
    "start_time": "2022-11-01T11:21:28.764Z"
   },
   {
    "duration": 0,
    "start_time": "2022-11-01T11:21:29.477Z"
   },
   {
    "duration": 0,
    "start_time": "2022-11-01T11:21:29.478Z"
   },
   {
    "duration": 0,
    "start_time": "2022-11-01T11:21:29.479Z"
   },
   {
    "duration": 0,
    "start_time": "2022-11-01T11:21:29.480Z"
   },
   {
    "duration": 0,
    "start_time": "2022-11-01T11:21:29.481Z"
   },
   {
    "duration": 0,
    "start_time": "2022-11-01T11:21:29.482Z"
   },
   {
    "duration": 0,
    "start_time": "2022-11-01T11:21:29.483Z"
   },
   {
    "duration": 0,
    "start_time": "2022-11-01T11:21:29.484Z"
   },
   {
    "duration": 0,
    "start_time": "2022-11-01T11:21:29.485Z"
   },
   {
    "duration": 0,
    "start_time": "2022-11-01T11:21:29.486Z"
   },
   {
    "duration": 3086,
    "start_time": "2022-11-01T11:21:53.371Z"
   },
   {
    "duration": 523,
    "start_time": "2022-11-01T11:21:59.050Z"
   },
   {
    "duration": 2652,
    "start_time": "2022-11-01T11:22:11.857Z"
   },
   {
    "duration": 2560,
    "start_time": "2022-11-01T11:22:19.624Z"
   },
   {
    "duration": 4493,
    "start_time": "2022-11-01T11:22:28.288Z"
   },
   {
    "duration": 11315,
    "start_time": "2022-11-01T11:22:33.609Z"
   },
   {
    "duration": 3,
    "start_time": "2022-11-01T11:22:45.791Z"
   },
   {
    "duration": 423,
    "start_time": "2022-11-01T11:22:46.445Z"
   },
   {
    "duration": 4,
    "start_time": "2022-11-01T11:22:46.869Z"
   },
   {
    "duration": 30,
    "start_time": "2022-11-01T11:22:47.049Z"
   },
   {
    "duration": 21,
    "start_time": "2022-11-01T11:22:47.130Z"
   },
   {
    "duration": 22,
    "start_time": "2022-11-01T11:22:47.434Z"
   },
   {
    "duration": 19,
    "start_time": "2022-11-01T11:22:48.028Z"
   },
   {
    "duration": 15,
    "start_time": "2022-11-01T11:22:48.117Z"
   },
   {
    "duration": 8,
    "start_time": "2022-11-01T11:22:49.842Z"
   },
   {
    "duration": 24,
    "start_time": "2022-11-01T11:22:50.192Z"
   },
   {
    "duration": 34,
    "start_time": "2022-11-01T11:22:50.552Z"
   },
   {
    "duration": 13,
    "start_time": "2022-11-01T11:22:54.027Z"
   },
   {
    "duration": 6,
    "start_time": "2022-11-01T11:24:13.722Z"
   },
   {
    "duration": 33,
    "start_time": "2022-11-01T11:24:23.225Z"
   },
   {
    "duration": 9,
    "start_time": "2022-11-01T11:24:52.146Z"
   },
   {
    "duration": 6,
    "start_time": "2022-11-01T11:25:00.844Z"
   },
   {
    "duration": 7,
    "start_time": "2022-11-01T11:25:13.262Z"
   },
   {
    "duration": 32,
    "start_time": "2022-11-01T11:26:19.530Z"
   },
   {
    "duration": 3876,
    "start_time": "2022-11-01T11:30:54.066Z"
   },
   {
    "duration": 4,
    "start_time": "2022-11-01T11:30:57.945Z"
   },
   {
    "duration": 8,
    "start_time": "2022-11-01T11:30:57.951Z"
   },
   {
    "duration": 328,
    "start_time": "2022-11-01T11:30:57.961Z"
   },
   {
    "duration": 3,
    "start_time": "2022-11-01T11:30:58.291Z"
   },
   {
    "duration": 21,
    "start_time": "2022-11-01T11:30:58.295Z"
   },
   {
    "duration": 19,
    "start_time": "2022-11-01T11:30:58.317Z"
   },
   {
    "duration": 42,
    "start_time": "2022-11-01T11:30:58.338Z"
   },
   {
    "duration": 19,
    "start_time": "2022-11-01T11:30:58.382Z"
   },
   {
    "duration": 15,
    "start_time": "2022-11-01T11:30:58.403Z"
   },
   {
    "duration": 5,
    "start_time": "2022-11-01T11:30:58.420Z"
   },
   {
    "duration": 19,
    "start_time": "2022-11-01T11:30:58.426Z"
   },
   {
    "duration": 32,
    "start_time": "2022-11-01T11:30:58.476Z"
   },
   {
    "duration": 11,
    "start_time": "2022-11-01T11:30:58.509Z"
   },
   {
    "duration": 19,
    "start_time": "2022-11-01T11:30:58.522Z"
   },
   {
    "duration": 48,
    "start_time": "2022-11-01T11:30:58.543Z"
   },
   {
    "duration": 35,
    "start_time": "2022-11-01T11:30:58.592Z"
   },
   {
    "duration": 23,
    "start_time": "2022-11-01T11:30:58.629Z"
   },
   {
    "duration": 4,
    "start_time": "2022-11-01T11:30:58.676Z"
   },
   {
    "duration": 11,
    "start_time": "2022-11-01T11:30:58.682Z"
   },
   {
    "duration": 189,
    "start_time": "2022-11-01T11:30:58.695Z"
   },
   {
    "duration": 186,
    "start_time": "2022-11-01T11:30:58.886Z"
   },
   {
    "duration": 393,
    "start_time": "2022-11-01T11:30:59.074Z"
   },
   {
    "duration": 173,
    "start_time": "2022-11-01T11:30:59.469Z"
   },
   {
    "duration": 5,
    "start_time": "2022-11-01T11:30:59.644Z"
   },
   {
    "duration": 24,
    "start_time": "2022-11-01T11:31:13.700Z"
   },
   {
    "duration": 4468,
    "start_time": "2022-11-01T11:31:41.189Z"
   },
   {
    "duration": 5,
    "start_time": "2022-11-01T11:34:11.452Z"
   },
   {
    "duration": 14,
    "start_time": "2022-11-01T11:34:16.264Z"
   },
   {
    "duration": 124,
    "start_time": "2022-11-01T11:39:54.017Z"
   },
   {
    "duration": 4,
    "start_time": "2022-11-01T11:40:07.164Z"
   },
   {
    "duration": 11,
    "start_time": "2022-11-01T11:40:18.513Z"
   },
   {
    "duration": 4,
    "start_time": "2022-11-01T11:40:22.446Z"
   },
   {
    "duration": 4,
    "start_time": "2022-11-01T11:40:26.320Z"
   },
   {
    "duration": 1164,
    "start_time": "2022-11-01T11:40:47.080Z"
   },
   {
    "duration": 19,
    "start_time": "2022-11-01T11:40:59.023Z"
   },
   {
    "duration": 9256,
    "start_time": "2022-11-01T11:46:17.222Z"
   },
   {
    "duration": 57,
    "start_time": "2022-11-01T11:51:25.292Z"
   },
   {
    "duration": 5402,
    "start_time": "2022-11-02T04:47:43.778Z"
   },
   {
    "duration": 1674,
    "start_time": "2022-11-02T04:47:49.183Z"
   },
   {
    "duration": 3,
    "start_time": "2022-11-02T04:47:50.858Z"
   },
   {
    "duration": 345,
    "start_time": "2022-11-02T04:47:50.862Z"
   },
   {
    "duration": 3,
    "start_time": "2022-11-02T04:47:51.209Z"
   },
   {
    "duration": 22,
    "start_time": "2022-11-02T04:47:51.213Z"
   },
   {
    "duration": 20,
    "start_time": "2022-11-02T04:47:51.237Z"
   },
   {
    "duration": 124,
    "start_time": "2022-11-02T04:47:51.259Z"
   },
   {
    "duration": 0,
    "start_time": "2022-11-02T04:47:51.390Z"
   },
   {
    "duration": 0,
    "start_time": "2022-11-02T04:47:51.392Z"
   },
   {
    "duration": 0,
    "start_time": "2022-11-02T04:47:51.393Z"
   },
   {
    "duration": 0,
    "start_time": "2022-11-02T04:47:51.393Z"
   },
   {
    "duration": 0,
    "start_time": "2022-11-02T04:47:51.394Z"
   },
   {
    "duration": 0,
    "start_time": "2022-11-02T04:47:51.395Z"
   },
   {
    "duration": 0,
    "start_time": "2022-11-02T04:47:51.396Z"
   },
   {
    "duration": 0,
    "start_time": "2022-11-02T04:47:51.397Z"
   },
   {
    "duration": 0,
    "start_time": "2022-11-02T04:47:51.398Z"
   },
   {
    "duration": 0,
    "start_time": "2022-11-02T04:47:51.399Z"
   },
   {
    "duration": 0,
    "start_time": "2022-11-02T04:47:51.400Z"
   },
   {
    "duration": 0,
    "start_time": "2022-11-02T04:47:51.401Z"
   },
   {
    "duration": 0,
    "start_time": "2022-11-02T04:47:51.402Z"
   },
   {
    "duration": 0,
    "start_time": "2022-11-02T04:47:51.403Z"
   },
   {
    "duration": 0,
    "start_time": "2022-11-02T04:47:51.404Z"
   },
   {
    "duration": 0,
    "start_time": "2022-11-02T04:47:51.405Z"
   },
   {
    "duration": 0,
    "start_time": "2022-11-02T04:47:51.406Z"
   },
   {
    "duration": 0,
    "start_time": "2022-11-02T04:47:51.407Z"
   },
   {
    "duration": 0,
    "start_time": "2022-11-02T04:47:51.408Z"
   },
   {
    "duration": 0,
    "start_time": "2022-11-02T04:47:51.409Z"
   },
   {
    "duration": 0,
    "start_time": "2022-11-02T04:47:51.409Z"
   },
   {
    "duration": 0,
    "start_time": "2022-11-02T04:47:51.410Z"
   },
   {
    "duration": 0,
    "start_time": "2022-11-02T04:47:51.411Z"
   },
   {
    "duration": 0,
    "start_time": "2022-11-02T04:47:51.412Z"
   },
   {
    "duration": 0,
    "start_time": "2022-11-02T04:47:51.414Z"
   },
   {
    "duration": 0,
    "start_time": "2022-11-02T04:47:51.414Z"
   },
   {
    "duration": 0,
    "start_time": "2022-11-02T04:47:51.416Z"
   },
   {
    "duration": 0,
    "start_time": "2022-11-02T04:47:51.416Z"
   },
   {
    "duration": 0,
    "start_time": "2022-11-02T04:47:51.417Z"
   },
   {
    "duration": 0,
    "start_time": "2022-11-02T04:47:51.418Z"
   },
   {
    "duration": 0,
    "start_time": "2022-11-02T04:47:51.419Z"
   },
   {
    "duration": 0,
    "start_time": "2022-11-02T04:47:51.420Z"
   },
   {
    "duration": 0,
    "start_time": "2022-11-02T04:47:51.421Z"
   },
   {
    "duration": 0,
    "start_time": "2022-11-02T04:47:51.422Z"
   },
   {
    "duration": 0,
    "start_time": "2022-11-02T04:47:51.423Z"
   },
   {
    "duration": 0,
    "start_time": "2022-11-02T04:47:51.425Z"
   },
   {
    "duration": 6,
    "start_time": "2022-11-02T04:48:29.691Z"
   },
   {
    "duration": 21,
    "start_time": "2022-11-02T04:48:42.697Z"
   },
   {
    "duration": 15,
    "start_time": "2022-11-02T04:48:43.036Z"
   },
   {
    "duration": 5,
    "start_time": "2022-11-02T04:48:45.117Z"
   },
   {
    "duration": 14,
    "start_time": "2022-11-02T04:48:45.462Z"
   },
   {
    "duration": 26,
    "start_time": "2022-11-02T04:48:46.224Z"
   },
   {
    "duration": 13,
    "start_time": "2022-11-02T04:48:46.776Z"
   },
   {
    "duration": 22,
    "start_time": "2022-11-02T04:48:47.314Z"
   },
   {
    "duration": 16,
    "start_time": "2022-11-02T04:48:48.329Z"
   },
   {
    "duration": 9,
    "start_time": "2022-11-02T04:48:49.265Z"
   },
   {
    "duration": 16,
    "start_time": "2022-11-02T04:48:49.971Z"
   },
   {
    "duration": 10,
    "start_time": "2022-11-02T04:48:50.537Z"
   },
   {
    "duration": 3811,
    "start_time": "2022-11-02T04:50:20.775Z"
   },
   {
    "duration": 1533,
    "start_time": "2022-11-02T04:50:25.379Z"
   },
   {
    "duration": 2,
    "start_time": "2022-11-02T04:50:26.914Z"
   },
   {
    "duration": 2,
    "start_time": "2022-11-02T04:50:30.181Z"
   },
   {
    "duration": 463,
    "start_time": "2022-11-02T04:50:30.972Z"
   },
   {
    "duration": 3,
    "start_time": "2022-11-02T04:50:32.617Z"
   },
   {
    "duration": 31,
    "start_time": "2022-11-02T04:50:32.797Z"
   },
   {
    "duration": 31,
    "start_time": "2022-11-02T04:50:32.959Z"
   },
   {
    "duration": 24,
    "start_time": "2022-11-02T04:50:33.342Z"
   },
   {
    "duration": 21,
    "start_time": "2022-11-02T04:50:33.929Z"
   },
   {
    "duration": 19,
    "start_time": "2022-11-02T04:50:34.108Z"
   },
   {
    "duration": 5,
    "start_time": "2022-11-02T04:50:36.183Z"
   },
   {
    "duration": 27,
    "start_time": "2022-11-02T04:50:36.630Z"
   },
   {
    "duration": 33,
    "start_time": "2022-11-02T04:50:39.439Z"
   },
   {
    "duration": 13,
    "start_time": "2022-11-02T04:50:40.569Z"
   },
   {
    "duration": 21,
    "start_time": "2022-11-02T04:50:41.137Z"
   },
   {
    "duration": 17,
    "start_time": "2022-11-02T04:50:41.504Z"
   },
   {
    "duration": 11,
    "start_time": "2022-11-02T04:50:41.915Z"
   },
   {
    "duration": 36,
    "start_time": "2022-11-02T04:50:42.689Z"
   },
   {
    "duration": 26,
    "start_time": "2022-11-02T04:50:43.756Z"
   },
   {
    "duration": 5,
    "start_time": "2022-11-02T04:50:44.870Z"
   },
   {
    "duration": 9,
    "start_time": "2022-11-02T04:50:45.472Z"
   },
   {
    "duration": 168,
    "start_time": "2022-11-02T04:50:45.846Z"
   },
   {
    "duration": 158,
    "start_time": "2022-11-02T04:50:46.028Z"
   },
   {
    "duration": 234,
    "start_time": "2022-11-02T04:50:46.702Z"
   },
   {
    "duration": 191,
    "start_time": "2022-11-02T04:50:46.938Z"
   },
   {
    "duration": 10,
    "start_time": "2022-11-02T04:50:47.132Z"
   },
   {
    "duration": 421,
    "start_time": "2022-11-02T04:50:47.144Z"
   },
   {
    "duration": 342,
    "start_time": "2022-11-02T04:50:47.567Z"
   },
   {
    "duration": 5,
    "start_time": "2022-11-02T04:50:47.952Z"
   },
   {
    "duration": 21,
    "start_time": "2022-11-02T04:50:48.041Z"
   },
   {
    "duration": 4188,
    "start_time": "2022-11-02T04:50:48.120Z"
   },
   {
    "duration": 5,
    "start_time": "2022-11-02T04:50:52.310Z"
   },
   {
    "duration": 28,
    "start_time": "2022-11-02T04:50:52.316Z"
   },
   {
    "duration": 8,
    "start_time": "2022-11-02T04:50:52.347Z"
   },
   {
    "duration": 143,
    "start_time": "2022-11-02T04:50:52.357Z"
   },
   {
    "duration": 12143,
    "start_time": "2022-11-02T04:50:52.501Z"
   },
   {
    "duration": 17650,
    "start_time": "2022-11-02T04:51:04.646Z"
   },
   {
    "duration": 159879,
    "start_time": "2022-11-02T04:51:22.301Z"
   },
   {
    "duration": 5,
    "start_time": "2022-11-02T04:54:02.182Z"
   },
   {
    "duration": 10,
    "start_time": "2022-11-02T04:54:02.191Z"
   },
   {
    "duration": 627,
    "start_time": "2022-11-02T04:54:02.203Z"
   },
   {
    "duration": 6,
    "start_time": "2022-11-02T04:54:02.832Z"
   },
   {
    "duration": 7,
    "start_time": "2022-11-02T04:54:02.840Z"
   },
   {
    "duration": 12,
    "start_time": "2022-11-02T04:54:02.849Z"
   },
   {
    "duration": 13,
    "start_time": "2022-11-02T04:54:02.863Z"
   },
   {
    "duration": 87,
    "start_time": "2022-11-02T04:54:02.878Z"
   },
   {
    "duration": 4,
    "start_time": "2022-11-02T04:55:27.520Z"
   },
   {
    "duration": 181,
    "start_time": "2022-11-02T04:55:27.956Z"
   },
   {
    "duration": 84,
    "start_time": "2022-11-03T14:00:27.344Z"
   }
  ],
  "kernelspec": {
   "display_name": "Python 3 (ipykernel)",
   "language": "python",
   "name": "python3"
  },
  "language_info": {
   "codemirror_mode": {
    "name": "ipython",
    "version": 3
   },
   "file_extension": ".py",
   "mimetype": "text/x-python",
   "name": "python",
   "nbconvert_exporter": "python",
   "pygments_lexer": "ipython3",
   "version": "3.9.12"
  },
  "toc": {
   "base_numbering": 1,
   "nav_menu": {},
   "number_sections": true,
   "sideBar": true,
   "skip_h1_title": true,
   "title_cell": "Table of Contents",
   "title_sidebar": "Contents",
   "toc_cell": false,
   "toc_position": {},
   "toc_section_display": true,
   "toc_window_display": false
  }
 },
 "nbformat": 4,
 "nbformat_minor": 2
}
